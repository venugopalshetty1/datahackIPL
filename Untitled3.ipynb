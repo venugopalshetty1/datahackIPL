{
 "cells": [
  {
   "cell_type": "markdown",
   "metadata": {
    "collapsed": true
   },
   "source": [
    "#                               Batsman Score prediction for each match"
   ]
  },
  {
   "cell_type": "markdown",
   "metadata": {},
   "source": [
    " "
   ]
  },
  {
   "cell_type": "code",
   "execution_count": 3,
   "metadata": {
    "collapsed": true
   },
   "outputs": [],
   "source": [
    "####Visualizations\n",
    "#### Importing dependencies \n",
    "import numpy as np\n",
    "import pandas as pa\n",
    "import seaborn as se\n",
    "import matplotlib.pyplot as plt\n",
    "from IPython.display import HTML"
   ]
  },
  {
   "cell_type": "code",
   "execution_count": 4,
   "metadata": {
    "collapsed": true
   },
   "outputs": [],
   "source": [
    "ball_by_ball = pa.read_csv(\"./train/train/ball_by_ball_data.csv\")\n",
    "match_data = pa.read_csv(\"./train/train/match_data.csv\")\n",
    "player_roster = pa.read_csv(\"./train/train/player_rosters.csv\")\n",
    "key_teams = pa.read_csv(\"./train/train/key_teams.csv\")\n",
    "matchs_2018=pa.read_csv(\"./test/test/matches_2018.csv\")\n",
    "player_prediction_2018=pa.read_csv(\"./test/test/player_predictions.csv\")"
   ]
  },
  {
   "cell_type": "markdown",
   "metadata": {},
   "source": [
    " "
   ]
  },
  {
   "cell_type": "markdown",
   "metadata": {},
   "source": [
    "### Lets see the players of 2018."
   ]
  },
  {
   "cell_type": "code",
   "execution_count": 5,
   "metadata": {},
   "outputs": [
    {
     "name": "stdout",
     "output_type": "stream",
     "text": [
      "   player_id                Player Team\n",
      "0          1  Mahendra Singh Dhoni  CSK\n",
      "1          3   Ravichandran Ashwin  KXI\n",
      "2         12         Parthiv Patel  RCB\n",
      "3         24          Suresh Raina  CSK\n",
      "4         30          Rohit Sharma   MI\n",
      "5         47        AB De Villiers  RCB\n",
      "6         52           Amit Mishra   DD\n",
      "7         55          Manoj Tiwary  KXI\n",
      "8         57        Shikhar Dhawan  SRH\n",
      "9         58        Gautam Gambhir   DD\n",
      "['CSK', 'KXI', 'RCB', 'MI', 'DD', 'SRH', 'KKR', 'RR']\n"
     ]
    }
   ],
   "source": [
    "### Players of 2018.\n",
    "\n",
    "players_2018=player_roster[player_roster['Season']==2018][['player_id','Player','Team']].reset_index()\n",
    "del players_2018['index']\n",
    "print(players_2018.head(10))\n",
    "\n",
    "### Teams in 2018.\n",
    "\n",
    "teams_2018=list(players_2018['Team'].unique())\n",
    "\n",
    "print(teams_2018)\n"
   ]
  },
  {
   "cell_type": "markdown",
   "metadata": {},
   "source": [
    " "
   ]
  },
  {
   "cell_type": "markdown",
   "metadata": {},
   "source": [
    "## Filtering only players who are playing in 2018. "
   ]
  },
  {
   "cell_type": "markdown",
   "metadata": {},
   "source": [
    "Because i dont want to predict scores of the players who are not playing in 2018. So i keep only 2018 players in my 2008 to 2017 data."
   ]
  },
  {
   "cell_type": "code",
   "execution_count": 6,
   "metadata": {
    "collapsed": true
   },
   "outputs": [],
   "source": [
    "#### Filter only the 2018 players.\n",
    "\n",
    "ball_by_ball_only_2018=ball_by_ball[ball_by_ball['batsman_id'].isin(list(players_2018['player_id']))]"
   ]
  },
  {
   "cell_type": "code",
   "execution_count": 7,
   "metadata": {
    "collapsed": true
   },
   "outputs": [],
   "source": [
    "ball_by_ball_only_2018=ball_by_ball_only_2018.reset_index()\n",
    "del ball_by_ball_only_2018['index']"
   ]
  },
  {
   "cell_type": "code",
   "execution_count": 8,
   "metadata": {
    "collapsed": true
   },
   "outputs": [],
   "source": [
    "### Find the frquency of the teams from 2008 to 2017.\n",
    "\n",
    "freq_of_teams=sum([list(match_data['team1_id']),list(match_data['team2_id'])],[])"
   ]
  },
  {
   "cell_type": "code",
   "execution_count": 9,
   "metadata": {},
   "outputs": [
    {
     "data": {
      "text/plain": [
       "MI     157\n",
       "RCB    152\n",
       "KXI    148\n",
       "KKR    148\n",
       "DD     147\n",
       "CSK    131\n",
       "RR     118\n",
       "SRH     76\n",
       "DC      75\n",
       "PW      46\n",
       "GL      30\n",
       "RPS     30\n",
       "KTK     14\n",
       "dtype: int64"
      ]
     },
     "execution_count": 9,
     "metadata": {},
     "output_type": "execute_result"
    }
   ],
   "source": [
    "(pa.Series(freq_of_teams)).value_counts()"
   ]
  },
  {
   "cell_type": "markdown",
   "metadata": {},
   "source": [
    " "
   ]
  },
  {
   "cell_type": "markdown",
   "metadata": {},
   "source": [
    "## Changing DC to SRH"
   ]
  },
  {
   "cell_type": "code",
   "execution_count": 10,
   "metadata": {
    "collapsed": true
   },
   "outputs": [],
   "source": [
    "### Ownership being transferred from Deccan Chronicle Holdings Ltd to Sun TV channel Network in 2013.\n",
    "### So Renaming the DC team to SRH is good option. Since they are the same teams.\n",
    "\n",
    "teams_renaming = {'DC':'SRH'}\n",
    "\n",
    "match_data1=match_data.replace({'team1_id':teams_renaming,'team2_id':teams_renaming,'toss_winner':teams_renaming,'winner':teams_renaming})\n",
    "ball_by_ball_only_2018=ball_by_ball_only_2018.replace({'batting_team':teams_renaming,'bowling_team':teams_renaming})\n",
    "ball_by_ball_only_2018=ball_by_ball_only_2018.merge(match_data[['match_id','season','venue_id']], on='match_id')"
   ]
  },
  {
   "cell_type": "code",
   "execution_count": 12,
   "metadata": {},
   "outputs": [
    {
     "data": {
      "text/html": [
       "<div>\n",
       "<style>\n",
       "    .dataframe thead tr:only-child th {\n",
       "        text-align: right;\n",
       "    }\n",
       "\n",
       "    .dataframe thead th {\n",
       "        text-align: left;\n",
       "    }\n",
       "\n",
       "    .dataframe tbody tr th {\n",
       "        vertical-align: top;\n",
       "    }\n",
       "</style>\n",
       "<table border=\"1\" class=\"dataframe\">\n",
       "  <thead>\n",
       "    <tr style=\"text-align: right;\">\n",
       "      <th></th>\n",
       "      <th>match_id</th>\n",
       "      <th>inning</th>\n",
       "      <th>batting_team</th>\n",
       "      <th>bowling_team</th>\n",
       "      <th>over</th>\n",
       "      <th>ball</th>\n",
       "      <th>batsman</th>\n",
       "      <th>batsman_id</th>\n",
       "      <th>non_striker</th>\n",
       "      <th>non_striker_id</th>\n",
       "      <th>bowler</th>\n",
       "      <th>bowler_id</th>\n",
       "      <th>batsman_runs</th>\n",
       "      <th>extra_runs</th>\n",
       "      <th>player_dismissed</th>\n",
       "      <th>player_dismissed_id</th>\n",
       "      <th>dismissal_kind</th>\n",
       "      <th>is_super_over</th>\n",
       "      <th>season</th>\n",
       "      <th>venue_id</th>\n",
       "    </tr>\n",
       "  </thead>\n",
       "  <tbody>\n",
       "    <tr>\n",
       "      <th>0</th>\n",
       "      <td>2017_1</td>\n",
       "      <td>1</td>\n",
       "      <td>SRH</td>\n",
       "      <td>RCB</td>\n",
       "      <td>1</td>\n",
       "      <td>1</td>\n",
       "      <td>David Warner</td>\n",
       "      <td>207</td>\n",
       "      <td>Shikhar Dhawan</td>\n",
       "      <td>57</td>\n",
       "      <td>Tymal Mills</td>\n",
       "      <td>621</td>\n",
       "      <td>0</td>\n",
       "      <td>0</td>\n",
       "      <td>NaN</td>\n",
       "      <td>NaN</td>\n",
       "      <td>NaN</td>\n",
       "      <td>0</td>\n",
       "      <td>2017</td>\n",
       "      <td>4</td>\n",
       "    </tr>\n",
       "    <tr>\n",
       "      <th>1</th>\n",
       "      <td>2017_1</td>\n",
       "      <td>1</td>\n",
       "      <td>SRH</td>\n",
       "      <td>RCB</td>\n",
       "      <td>1</td>\n",
       "      <td>2</td>\n",
       "      <td>David Warner</td>\n",
       "      <td>207</td>\n",
       "      <td>Shikhar Dhawan</td>\n",
       "      <td>57</td>\n",
       "      <td>Tymal Mills</td>\n",
       "      <td>621</td>\n",
       "      <td>0</td>\n",
       "      <td>0</td>\n",
       "      <td>NaN</td>\n",
       "      <td>NaN</td>\n",
       "      <td>NaN</td>\n",
       "      <td>0</td>\n",
       "      <td>2017</td>\n",
       "      <td>4</td>\n",
       "    </tr>\n",
       "    <tr>\n",
       "      <th>2</th>\n",
       "      <td>2017_1</td>\n",
       "      <td>1</td>\n",
       "      <td>SRH</td>\n",
       "      <td>RCB</td>\n",
       "      <td>1</td>\n",
       "      <td>3</td>\n",
       "      <td>David Warner</td>\n",
       "      <td>207</td>\n",
       "      <td>Shikhar Dhawan</td>\n",
       "      <td>57</td>\n",
       "      <td>Tymal Mills</td>\n",
       "      <td>621</td>\n",
       "      <td>4</td>\n",
       "      <td>0</td>\n",
       "      <td>NaN</td>\n",
       "      <td>NaN</td>\n",
       "      <td>NaN</td>\n",
       "      <td>0</td>\n",
       "      <td>2017</td>\n",
       "      <td>4</td>\n",
       "    </tr>\n",
       "    <tr>\n",
       "      <th>3</th>\n",
       "      <td>2017_1</td>\n",
       "      <td>1</td>\n",
       "      <td>SRH</td>\n",
       "      <td>RCB</td>\n",
       "      <td>1</td>\n",
       "      <td>4</td>\n",
       "      <td>David Warner</td>\n",
       "      <td>207</td>\n",
       "      <td>Shikhar Dhawan</td>\n",
       "      <td>57</td>\n",
       "      <td>Tymal Mills</td>\n",
       "      <td>621</td>\n",
       "      <td>0</td>\n",
       "      <td>0</td>\n",
       "      <td>NaN</td>\n",
       "      <td>NaN</td>\n",
       "      <td>NaN</td>\n",
       "      <td>0</td>\n",
       "      <td>2017</td>\n",
       "      <td>4</td>\n",
       "    </tr>\n",
       "    <tr>\n",
       "      <th>4</th>\n",
       "      <td>2017_1</td>\n",
       "      <td>1</td>\n",
       "      <td>SRH</td>\n",
       "      <td>RCB</td>\n",
       "      <td>1</td>\n",
       "      <td>5</td>\n",
       "      <td>David Warner</td>\n",
       "      <td>207</td>\n",
       "      <td>Shikhar Dhawan</td>\n",
       "      <td>57</td>\n",
       "      <td>Tymal Mills</td>\n",
       "      <td>621</td>\n",
       "      <td>0</td>\n",
       "      <td>2</td>\n",
       "      <td>NaN</td>\n",
       "      <td>NaN</td>\n",
       "      <td>NaN</td>\n",
       "      <td>0</td>\n",
       "      <td>2017</td>\n",
       "      <td>4</td>\n",
       "    </tr>\n",
       "  </tbody>\n",
       "</table>\n",
       "</div>"
      ],
      "text/plain": [
       "  match_id  inning batting_team bowling_team  over  ball       batsman  \\\n",
       "0   2017_1       1          SRH          RCB     1     1  David Warner   \n",
       "1   2017_1       1          SRH          RCB     1     2  David Warner   \n",
       "2   2017_1       1          SRH          RCB     1     3  David Warner   \n",
       "3   2017_1       1          SRH          RCB     1     4  David Warner   \n",
       "4   2017_1       1          SRH          RCB     1     5  David Warner   \n",
       "\n",
       "   batsman_id     non_striker  non_striker_id       bowler  bowler_id  \\\n",
       "0         207  Shikhar Dhawan              57  Tymal Mills        621   \n",
       "1         207  Shikhar Dhawan              57  Tymal Mills        621   \n",
       "2         207  Shikhar Dhawan              57  Tymal Mills        621   \n",
       "3         207  Shikhar Dhawan              57  Tymal Mills        621   \n",
       "4         207  Shikhar Dhawan              57  Tymal Mills        621   \n",
       "\n",
       "   batsman_runs  extra_runs player_dismissed  player_dismissed_id  \\\n",
       "0             0           0              NaN                  NaN   \n",
       "1             0           0              NaN                  NaN   \n",
       "2             4           0              NaN                  NaN   \n",
       "3             0           0              NaN                  NaN   \n",
       "4             0           2              NaN                  NaN   \n",
       "\n",
       "  dismissal_kind  is_super_over  season  venue_id  \n",
       "0            NaN              0    2017         4  \n",
       "1            NaN              0    2017         4  \n",
       "2            NaN              0    2017         4  \n",
       "3            NaN              0    2017         4  \n",
       "4            NaN              0    2017         4  "
      ]
     },
     "execution_count": 12,
     "metadata": {},
     "output_type": "execute_result"
    }
   ],
   "source": [
    "ball_by_ball_only_2018.head()"
   ]
  },
  {
   "cell_type": "code",
   "execution_count": 13,
   "metadata": {
    "collapsed": true,
    "scrolled": false
   },
   "outputs": [],
   "source": [
    "ball_by_ball_only_2018['seasonal_match_id']=[row.split('_')[1] for row in ball_by_ball_only_2018['match_id']]"
   ]
  },
  {
   "cell_type": "markdown",
   "metadata": {},
   "source": [
    " "
   ]
  },
  {
   "cell_type": "markdown",
   "metadata": {},
   "source": [
    "## Seperating 1st and 2nd innings"
   ]
  },
  {
   "cell_type": "markdown",
   "metadata": {},
   "source": [
    "Since we are predicting the scores for both 1st innings and 2nd innings seperately, i split the data into two innings. Here i didnt take the 3rd and 4th innings since it comes under the superover concept."
   ]
  },
  {
   "cell_type": "code",
   "execution_count": 15,
   "metadata": {
    "collapsed": true
   },
   "outputs": [],
   "source": [
    "ball_by_ball_only_2018['season']=ball_by_ball_only_2018['season'].apply(int)\n",
    "ball_by_ball_only_2018['seasonal_match_id']=ball_by_ball_only_2018['seasonal_match_id'].apply(int)"
   ]
  },
  {
   "cell_type": "code",
   "execution_count": 16,
   "metadata": {
    "collapsed": true
   },
   "outputs": [],
   "source": [
    "#### Seperating 1st and 2nd innings.\n",
    "\n",
    "ball_by_ball_only_2018_1stinn=ball_by_ball_only_2018[ball_by_ball_only_2018['inning']==1]\n",
    "ball_by_ball_only_2018_2ndinn=ball_by_ball_only_2018[ball_by_ball_only_2018['inning']==2]"
   ]
  },
  {
   "cell_type": "markdown",
   "metadata": {},
   "source": [
    " "
   ]
  },
  {
   "cell_type": "markdown",
   "metadata": {},
   "source": [
    "# 1st Innings"
   ]
  },
  {
   "cell_type": "markdown",
   "metadata": {},
   "source": [
    " "
   ]
  },
  {
   "cell_type": "markdown",
   "metadata": {},
   "source": [
    "## Calculating Strike rate, Average, matches played"
   ]
  },
  {
   "cell_type": "markdown",
   "metadata": {},
   "source": [
    "Let me explain here, Strike rate, average, matches played i calculated cummulatively. So for each match i put the over all strike rate from all previous matches. Here what i mean is im taking the predictor variables as the strike rate, average, matches played from all the previous matches and predict the present match player score."
   ]
  },
  {
   "cell_type": "code",
   "execution_count": 21,
   "metadata": {
    "collapsed": true,
    "scrolled": true
   },
   "outputs": [],
   "source": [
    "score_card_1st_inn=ball_by_ball_only_2018_1stinn.groupby(['match_id','seasonal_match_id','season','venue_id','batting_team','bowling_team','batsman','batsman_id'], as_index=False)['batsman_runs'].agg({'ball_palyed':'count','batsman_runs':'sum'})"
   ]
  },
  {
   "cell_type": "code",
   "execution_count": 22,
   "metadata": {
    "collapsed": true
   },
   "outputs": [],
   "source": [
    "score_card_1st_inn['unique_id']=(score_card_1st_inn['match_id']).apply(str)+\"_\"+(score_card_1st_inn['batsman_id']).apply(str)"
   ]
  },
  {
   "cell_type": "code",
   "execution_count": 23,
   "metadata": {
    "collapsed": true,
    "scrolled": true
   },
   "outputs": [],
   "source": [
    "score_card_1st_inn=score_card_1st_inn.sort_values(['batsman_id','season','seasonal_match_id'])"
   ]
  },
  {
   "cell_type": "code",
   "execution_count": 24,
   "metadata": {
    "collapsed": true
   },
   "outputs": [],
   "source": [
    "#### Adding up the total Runs scored for each match Cummulatively\n",
    "score_card_1st_inn['cumm_runs']=score_card_1st_inn.groupby(['batsman_id'])['batsman_runs'].cumsum()\n",
    "#### Adding the total balls faced for the each match\n",
    "score_card_1st_inn['B/F']=score_card_1st_inn.groupby(['batsman_id'])['ball_palyed'].cumsum()"
   ]
  },
  {
   "cell_type": "code",
   "execution_count": 25,
   "metadata": {
    "collapsed": true
   },
   "outputs": [],
   "source": [
    "#### Calculating the strike rate formula: total_no_of_runs/total_balls_faced\n",
    "\n",
    "\n",
    "score_card_1st_inn['strike_rate']=np.round((score_card_1st_inn['cumm_runs']/score_card_1st_inn['B/F'])*100,2)\n",
    "\n"
   ]
  },
  {
   "cell_type": "code",
   "execution_count": 26,
   "metadata": {
    "collapsed": true,
    "scrolled": true
   },
   "outputs": [],
   "source": [
    "#### To calculate the Average the of the batsman for each match.\n",
    "\n",
    "#### This is number of matches played.\n",
    "score_card_1st_inn['matches_played']=(score_card_1st_inn.groupby(['batsman_id'])['B/F'].rank(ascending=True)).apply(int)\n",
    "\n",
    "\n",
    "#### Average of batsman formula: Runs_scored/Matches_palyed.\n",
    "\n",
    "score_card_1st_inn['Averge_of_batsman']=np.round((score_card_1st_inn['cumm_runs']/score_card_1st_inn['matches_played']),2)\n",
    "\n",
    "\n"
   ]
  },
  {
   "cell_type": "markdown",
   "metadata": {},
   "source": [
    "### In 2018 for CSK few match venues got changed from chennai stadium to pune. "
   ]
  },
  {
   "cell_type": "code",
   "execution_count": 27,
   "metadata": {
    "collapsed": true,
    "scrolled": true
   },
   "outputs": [],
   "source": [
    "matchs_2018\n",
    "\n",
    "#### change the venue id:\n",
    "#### Due to cauvery issue in chennai. The stadium change from chennai to maharastra cricket association stadium with id 32\n",
    "#### Match ids to change:   \n",
    "\"\"\" 2018_17\n",
    "    2018_27\n",
    "    2018_30\n",
    "    2018_35\n",
    "    2018_46\n",
    "    2018_56 \"\"\"\n",
    "\n",
    "\n",
    "ids_to_change=['2018_17',\n",
    "'2018_27',\n",
    "'2018_30',\n",
    "'2018_35',\n",
    "'2018_46',\n",
    "'2018_56']\n",
    "\n",
    "\n",
    "for i in list(matchs_2018[matchs_2018['match_id'].isin(ids_to_change)].index):\n",
    "    matchs_2018.iloc[i,4]='Maharashtra Cricket Association Stadium'\n",
    "    matchs_2018.iloc[i,5]=32\n",
    "\n"
   ]
  },
  {
   "cell_type": "code",
   "execution_count": 28,
   "metadata": {
    "collapsed": true,
    "scrolled": true
   },
   "outputs": [],
   "source": [
    "match_2018_details=player_prediction_2018[['unique_id','match_id','player_id','team_id']].merge(matchs_2018[['match_id','team1_id','team2_id','venue_id']], on='match_id')"
   ]
  },
  {
   "cell_type": "code",
   "execution_count": 29,
   "metadata": {
    "collapsed": true,
    "scrolled": true
   },
   "outputs": [],
   "source": [
    "match_2018_details['batting_team']='nan'\n",
    "match_2018_details['bowling_team']='nan'"
   ]
  },
  {
   "cell_type": "code",
   "execution_count": 30,
   "metadata": {
    "collapsed": true
   },
   "outputs": [],
   "source": [
    "for i in range(len(match_2018_details)):\n",
    "    if match_2018_details.iloc[i,3]==match_2018_details.iloc[i,4]:\n",
    "        match_2018_details.iloc[i,7]=match_2018_details.iloc[i,3]\n",
    "        match_2018_details.iloc[i,8]=match_2018_details.iloc[i,5]\n",
    "    elif match_2018_details.iloc[i,3]==match_2018_details.iloc[i,5]:\n",
    "        match_2018_details.iloc[i,7]=match_2018_details.iloc[i,5]\n",
    "        match_2018_details.iloc[i,8]=match_2018_details.iloc[i,4]\n",
    "    "
   ]
  },
  {
   "cell_type": "code",
   "execution_count": 31,
   "metadata": {
    "collapsed": true,
    "scrolled": true
   },
   "outputs": [],
   "source": [
    "del match_2018_details['team_id']\n",
    "del match_2018_details['team1_id']\n",
    "del match_2018_details['team2_id']"
   ]
  },
  {
   "cell_type": "code",
   "execution_count": 33,
   "metadata": {
    "scrolled": true
   },
   "outputs": [
    {
     "data": {
      "text/html": [
       "<div>\n",
       "<style>\n",
       "    .dataframe thead tr:only-child th {\n",
       "        text-align: right;\n",
       "    }\n",
       "\n",
       "    .dataframe thead th {\n",
       "        text-align: left;\n",
       "    }\n",
       "\n",
       "    .dataframe tbody tr th {\n",
       "        vertical-align: top;\n",
       "    }\n",
       "</style>\n",
       "<table border=\"1\" class=\"dataframe\">\n",
       "  <thead>\n",
       "    <tr style=\"text-align: right;\">\n",
       "      <th></th>\n",
       "      <th>unique_id</th>\n",
       "      <th>match_id</th>\n",
       "      <th>player_id</th>\n",
       "      <th>venue_id</th>\n",
       "      <th>batting_team</th>\n",
       "      <th>bowling_team</th>\n",
       "    </tr>\n",
       "  </thead>\n",
       "  <tbody>\n",
       "    <tr>\n",
       "      <th>0</th>\n",
       "      <td>2018_1_1</td>\n",
       "      <td>2018_1</td>\n",
       "      <td>1</td>\n",
       "      <td>1</td>\n",
       "      <td>CSK</td>\n",
       "      <td>MI</td>\n",
       "    </tr>\n",
       "    <tr>\n",
       "      <th>1</th>\n",
       "      <td>2018_1_24</td>\n",
       "      <td>2018_1</td>\n",
       "      <td>24</td>\n",
       "      <td>1</td>\n",
       "      <td>CSK</td>\n",
       "      <td>MI</td>\n",
       "    </tr>\n",
       "    <tr>\n",
       "      <th>2</th>\n",
       "      <td>2018_1_114</td>\n",
       "      <td>2018_1</td>\n",
       "      <td>114</td>\n",
       "      <td>1</td>\n",
       "      <td>CSK</td>\n",
       "      <td>MI</td>\n",
       "    </tr>\n",
       "    <tr>\n",
       "      <th>3</th>\n",
       "      <td>2018_1_131</td>\n",
       "      <td>2018_1</td>\n",
       "      <td>131</td>\n",
       "      <td>1</td>\n",
       "      <td>CSK</td>\n",
       "      <td>MI</td>\n",
       "    </tr>\n",
       "    <tr>\n",
       "      <th>4</th>\n",
       "      <td>2018_1_175</td>\n",
       "      <td>2018_1</td>\n",
       "      <td>175</td>\n",
       "      <td>1</td>\n",
       "      <td>CSK</td>\n",
       "      <td>MI</td>\n",
       "    </tr>\n",
       "  </tbody>\n",
       "</table>\n",
       "</div>"
      ],
      "text/plain": [
       "    unique_id match_id  player_id  venue_id batting_team bowling_team\n",
       "0    2018_1_1   2018_1          1         1          CSK           MI\n",
       "1   2018_1_24   2018_1         24         1          CSK           MI\n",
       "2  2018_1_114   2018_1        114         1          CSK           MI\n",
       "3  2018_1_131   2018_1        131         1          CSK           MI\n",
       "4  2018_1_175   2018_1        175         1          CSK           MI"
      ]
     },
     "execution_count": 33,
     "metadata": {},
     "output_type": "execute_result"
    }
   ],
   "source": [
    "match_2018_details.head()"
   ]
  },
  {
   "cell_type": "code",
   "execution_count": 34,
   "metadata": {},
   "outputs": [
    {
     "data": {
      "text/plain": [
       "array([  1,   3,  12,  24,  30,  47,  52,  55,  57,  58,  59,  63,  71,\n",
       "        79,  82,  84,  88, 102, 114, 118, 120, 122, 126, 131, 141, 149,\n",
       "       153, 157, 171, 175, 177, 189, 207, 208, 211, 249, 250, 254, 271,\n",
       "       305, 309, 311, 315, 321, 322, 333, 337, 340, 341, 343, 351, 359,\n",
       "       361, 373, 378, 386, 402, 411, 412, 429, 430, 433, 437, 439, 443,\n",
       "       449, 456, 458, 464, 465, 467, 469, 471, 478, 479, 480, 484, 485,\n",
       "       487, 500, 502, 507, 511, 512, 514, 518, 521, 526, 528, 529, 531,\n",
       "       535, 537, 540, 548, 551, 553, 559, 562, 564, 565, 567, 570, 571,\n",
       "       572, 573, 574, 581, 582, 590, 593, 594, 596, 598, 600, 606, 608,\n",
       "       610, 613, 614, 617, 618, 619, 622, 625, 626, 630, 631, 632, 633,\n",
       "       634, 635, 637, 638, 639, 640, 641, 642, 643, 644, 645, 646, 647,\n",
       "       648, 649, 650, 651, 652, 654, 655, 656, 657, 658, 659, 661, 662,\n",
       "       663, 664, 665, 666, 668, 669, 670, 671, 672, 673, 674, 675, 676,\n",
       "       677, 678, 679, 680, 681, 682, 683, 684, 685, 686, 687, 688, 689,\n",
       "       690, 691, 692, 693, 696])"
      ]
     },
     "execution_count": 34,
     "metadata": {},
     "output_type": "execute_result"
    }
   ],
   "source": [
    "#### Who are the player not there, means not played even a single ball in past matchs 2008 to 2017 let's dont consider in prediction\n",
    "\n",
    "np.sort(match_2018_details['player_id'].unique())\n"
   ]
  },
  {
   "cell_type": "code",
   "execution_count": 35,
   "metadata": {},
   "outputs": [
    {
     "data": {
      "text/plain": [
       "array([  1,   3,  12,  24,  30,  47,  52,  55,  57,  58,  59,  63,  71,\n",
       "        79,  82,  84,  88, 102, 114, 118, 120, 122, 126, 131, 141, 149,\n",
       "       153, 157, 171, 175, 177, 189, 207, 208, 211, 249, 250, 254, 271,\n",
       "       305, 309, 311, 315, 321, 322, 333, 337, 340, 341, 343, 351, 359,\n",
       "       361, 373, 378, 386, 402, 411, 412, 429, 430, 433, 437, 439, 443,\n",
       "       456, 458, 465, 467, 469, 471, 478, 479, 480, 484, 485, 487, 500,\n",
       "       502, 507, 511, 512, 514, 518, 521, 526, 528, 529, 535, 537, 540,\n",
       "       548, 551, 553, 559, 562, 564, 565, 567, 570, 572, 573, 574, 581,\n",
       "       582, 590, 594, 598, 600, 606, 610, 625, 626, 630, 631, 632, 633,\n",
       "       634, 647, 649, 655, 661, 664, 668, 677, 682, 691])"
      ]
     },
     "execution_count": 35,
     "metadata": {},
     "output_type": "execute_result"
    }
   ],
   "source": [
    "np.sort(ball_by_ball_only_2018['batsman_id'].unique())"
   ]
  },
  {
   "cell_type": "markdown",
   "metadata": {},
   "source": [
    " "
   ]
  },
  {
   "cell_type": "markdown",
   "metadata": {},
   "source": [
    "### Non predictable players. They might be new in 2018 season or in previous matches being in the team they didnt even play a single ball"
   ]
  },
  {
   "cell_type": "code",
   "execution_count": 36,
   "metadata": {
    "collapsed": true,
    "scrolled": true
   },
   "outputs": [],
   "source": [
    "### These are the players not played even single ball from 2008 to 2017. So my view is we cannot predicit the player with out having\n",
    "### any previous(past) data.\n",
    "not_predictable_players=[player for player in np.sort(match_2018_details['player_id'].unique()) if player not in np.sort(ball_by_ball_only_2018['batsman_id'].unique()) ]"
   ]
  },
  {
   "cell_type": "code",
   "execution_count": 42,
   "metadata": {
    "scrolled": true
   },
   "outputs": [
    {
     "data": {
      "text/plain": [
       "[449,\n",
       " 464,\n",
       " 531,\n",
       " 571,\n",
       " 593,\n",
       " 596,\n",
       " 608,\n",
       " 613,\n",
       " 614,\n",
       " 617,\n",
       " 618,\n",
       " 619,\n",
       " 622,\n",
       " 635,\n",
       " 637,\n",
       " 638,\n",
       " 639,\n",
       " 640,\n",
       " 641,\n",
       " 642,\n",
       " 643,\n",
       " 644,\n",
       " 645,\n",
       " 646,\n",
       " 648,\n",
       " 650,\n",
       " 651,\n",
       " 652,\n",
       " 654,\n",
       " 656,\n",
       " 657,\n",
       " 658,\n",
       " 659,\n",
       " 662,\n",
       " 663,\n",
       " 665,\n",
       " 666,\n",
       " 669,\n",
       " 670,\n",
       " 671,\n",
       " 672,\n",
       " 673,\n",
       " 674,\n",
       " 675,\n",
       " 676,\n",
       " 678,\n",
       " 679,\n",
       " 680,\n",
       " 681,\n",
       " 683,\n",
       " 684,\n",
       " 685,\n",
       " 686,\n",
       " 687,\n",
       " 688,\n",
       " 689,\n",
       " 690,\n",
       " 692,\n",
       " 693,\n",
       " 696]"
      ]
     },
     "execution_count": 42,
     "metadata": {},
     "output_type": "execute_result"
    }
   ],
   "source": [
    "not_predictable_players"
   ]
  },
  {
   "cell_type": "markdown",
   "metadata": {},
   "source": [
    " "
   ]
  },
  {
   "cell_type": "markdown",
   "metadata": {},
   "source": [
    "## Test set for 2018 matches (1st innings)"
   ]
  },
  {
   "cell_type": "markdown",
   "metadata": {},
   "source": [
    "What i did is took the strike rate,average and matches played from 2008 to very last match the player played before 2018. So that based on his overall performance in IPL career we predict his each match score in 2018."
   ]
  },
  {
   "cell_type": "code",
   "execution_count": 45,
   "metadata": {
    "collapsed": true,
    "scrolled": true
   },
   "outputs": [],
   "source": [
    "test_data_prep_1st_inn=score_card_1st_inn[['batsman_id','batsman','matches_played','strike_rate','Averge_of_batsman']].sort_values(['batsman_id','matches_played'],ascending=[True,False]).drop_duplicates(subset=['batsman_id'])"
   ]
  },
  {
   "cell_type": "code",
   "execution_count": 47,
   "metadata": {
    "scrolled": true
   },
   "outputs": [
    {
     "data": {
      "text/html": [
       "<div>\n",
       "<style>\n",
       "    .dataframe thead tr:only-child th {\n",
       "        text-align: right;\n",
       "    }\n",
       "\n",
       "    .dataframe thead th {\n",
       "        text-align: left;\n",
       "    }\n",
       "\n",
       "    .dataframe tbody tr th {\n",
       "        vertical-align: top;\n",
       "    }\n",
       "</style>\n",
       "<table border=\"1\" class=\"dataframe\">\n",
       "  <thead>\n",
       "    <tr style=\"text-align: right;\">\n",
       "      <th></th>\n",
       "      <th>batsman_id</th>\n",
       "      <th>batsman</th>\n",
       "      <th>matches_played</th>\n",
       "      <th>strike_rate</th>\n",
       "      <th>Averge_of_batsman</th>\n",
       "    </tr>\n",
       "  </thead>\n",
       "  <tbody>\n",
       "    <tr>\n",
       "      <th>2576</th>\n",
       "      <td>1</td>\n",
       "      <td>Mahendra Singh Dhoni</td>\n",
       "      <td>89</td>\n",
       "      <td>135.60</td>\n",
       "      <td>25.08</td>\n",
       "    </tr>\n",
       "    <tr>\n",
       "      <th>2110</th>\n",
       "      <td>3</td>\n",
       "      <td>Ravichandran Ashwin</td>\n",
       "      <td>17</td>\n",
       "      <td>85.86</td>\n",
       "      <td>5.00</td>\n",
       "    </tr>\n",
       "    <tr>\n",
       "      <th>2605</th>\n",
       "      <td>12</td>\n",
       "      <td>Parthiv Patel</td>\n",
       "      <td>58</td>\n",
       "      <td>114.07</td>\n",
       "      <td>18.31</td>\n",
       "    </tr>\n",
       "    <tr>\n",
       "      <th>2557</th>\n",
       "      <td>24</td>\n",
       "      <td>Suresh Raina</td>\n",
       "      <td>91</td>\n",
       "      <td>132.81</td>\n",
       "      <td>29.09</td>\n",
       "    </tr>\n",
       "    <tr>\n",
       "      <th>2606</th>\n",
       "      <td>30</td>\n",
       "      <td>Rohit Sharma</td>\n",
       "      <td>78</td>\n",
       "      <td>135.81</td>\n",
       "      <td>30.05</td>\n",
       "    </tr>\n",
       "  </tbody>\n",
       "</table>\n",
       "</div>"
      ],
      "text/plain": [
       "      batsman_id               batsman  matches_played  strike_rate  \\\n",
       "2576           1  Mahendra Singh Dhoni              89       135.60   \n",
       "2110           3   Ravichandran Ashwin              17        85.86   \n",
       "2605          12         Parthiv Patel              58       114.07   \n",
       "2557          24          Suresh Raina              91       132.81   \n",
       "2606          30          Rohit Sharma              78       135.81   \n",
       "\n",
       "      Averge_of_batsman  \n",
       "2576              25.08  \n",
       "2110               5.00  \n",
       "2605              18.31  \n",
       "2557              29.09  \n",
       "2606              30.05  "
      ]
     },
     "execution_count": 47,
     "metadata": {},
     "output_type": "execute_result"
    }
   ],
   "source": [
    "test_data_prep_1st_inn.head()"
   ]
  },
  {
   "cell_type": "markdown",
   "metadata": {},
   "source": [
    "We can see in above data frame that each players performance in only 1st innings of the matches he played."
   ]
  },
  {
   "cell_type": "markdown",
   "metadata": {},
   "source": [
    "# Second innings"
   ]
  },
  {
   "cell_type": "markdown",
   "metadata": {},
   "source": [
    "In the same way as in 1st innings the steps are followed for 2nd innings too."
   ]
  },
  {
   "cell_type": "code",
   "execution_count": 48,
   "metadata": {},
   "outputs": [
    {
     "data": {
      "text/html": [
       "<div>\n",
       "<style>\n",
       "    .dataframe thead tr:only-child th {\n",
       "        text-align: right;\n",
       "    }\n",
       "\n",
       "    .dataframe thead th {\n",
       "        text-align: left;\n",
       "    }\n",
       "\n",
       "    .dataframe tbody tr th {\n",
       "        vertical-align: top;\n",
       "    }\n",
       "</style>\n",
       "<table border=\"1\" class=\"dataframe\">\n",
       "  <thead>\n",
       "    <tr style=\"text-align: right;\">\n",
       "      <th></th>\n",
       "      <th>match_id</th>\n",
       "      <th>inning</th>\n",
       "      <th>batting_team</th>\n",
       "      <th>bowling_team</th>\n",
       "      <th>over</th>\n",
       "      <th>ball</th>\n",
       "      <th>batsman</th>\n",
       "      <th>batsman_id</th>\n",
       "      <th>non_striker</th>\n",
       "      <th>non_striker_id</th>\n",
       "      <th>...</th>\n",
       "      <th>bowler_id</th>\n",
       "      <th>batsman_runs</th>\n",
       "      <th>extra_runs</th>\n",
       "      <th>player_dismissed</th>\n",
       "      <th>player_dismissed_id</th>\n",
       "      <th>dismissal_kind</th>\n",
       "      <th>is_super_over</th>\n",
       "      <th>season</th>\n",
       "      <th>venue_id</th>\n",
       "      <th>seasonal_match_id</th>\n",
       "    </tr>\n",
       "  </thead>\n",
       "  <tbody>\n",
       "    <tr>\n",
       "      <th>88</th>\n",
       "      <td>2017_1</td>\n",
       "      <td>2</td>\n",
       "      <td>RCB</td>\n",
       "      <td>SRH</td>\n",
       "      <td>1</td>\n",
       "      <td>1</td>\n",
       "      <td>Chris Gayle</td>\n",
       "      <td>79</td>\n",
       "      <td>Mandeep Singh</td>\n",
       "      <td>373</td>\n",
       "      <td>...</td>\n",
       "      <td>119</td>\n",
       "      <td>1</td>\n",
       "      <td>0</td>\n",
       "      <td>NaN</td>\n",
       "      <td>NaN</td>\n",
       "      <td>NaN</td>\n",
       "      <td>0</td>\n",
       "      <td>2017</td>\n",
       "      <td>4</td>\n",
       "      <td>1</td>\n",
       "    </tr>\n",
       "    <tr>\n",
       "      <th>89</th>\n",
       "      <td>2017_1</td>\n",
       "      <td>2</td>\n",
       "      <td>RCB</td>\n",
       "      <td>SRH</td>\n",
       "      <td>1</td>\n",
       "      <td>2</td>\n",
       "      <td>Mandeep Singh</td>\n",
       "      <td>373</td>\n",
       "      <td>Chris Gayle</td>\n",
       "      <td>79</td>\n",
       "      <td>...</td>\n",
       "      <td>119</td>\n",
       "      <td>0</td>\n",
       "      <td>0</td>\n",
       "      <td>NaN</td>\n",
       "      <td>NaN</td>\n",
       "      <td>NaN</td>\n",
       "      <td>0</td>\n",
       "      <td>2017</td>\n",
       "      <td>4</td>\n",
       "      <td>1</td>\n",
       "    </tr>\n",
       "    <tr>\n",
       "      <th>90</th>\n",
       "      <td>2017_1</td>\n",
       "      <td>2</td>\n",
       "      <td>RCB</td>\n",
       "      <td>SRH</td>\n",
       "      <td>1</td>\n",
       "      <td>3</td>\n",
       "      <td>Mandeep Singh</td>\n",
       "      <td>373</td>\n",
       "      <td>Chris Gayle</td>\n",
       "      <td>79</td>\n",
       "      <td>...</td>\n",
       "      <td>119</td>\n",
       "      <td>0</td>\n",
       "      <td>0</td>\n",
       "      <td>NaN</td>\n",
       "      <td>NaN</td>\n",
       "      <td>NaN</td>\n",
       "      <td>0</td>\n",
       "      <td>2017</td>\n",
       "      <td>4</td>\n",
       "      <td>1</td>\n",
       "    </tr>\n",
       "    <tr>\n",
       "      <th>91</th>\n",
       "      <td>2017_1</td>\n",
       "      <td>2</td>\n",
       "      <td>RCB</td>\n",
       "      <td>SRH</td>\n",
       "      <td>1</td>\n",
       "      <td>4</td>\n",
       "      <td>Mandeep Singh</td>\n",
       "      <td>373</td>\n",
       "      <td>Chris Gayle</td>\n",
       "      <td>79</td>\n",
       "      <td>...</td>\n",
       "      <td>119</td>\n",
       "      <td>2</td>\n",
       "      <td>0</td>\n",
       "      <td>NaN</td>\n",
       "      <td>NaN</td>\n",
       "      <td>NaN</td>\n",
       "      <td>0</td>\n",
       "      <td>2017</td>\n",
       "      <td>4</td>\n",
       "      <td>1</td>\n",
       "    </tr>\n",
       "    <tr>\n",
       "      <th>92</th>\n",
       "      <td>2017_1</td>\n",
       "      <td>2</td>\n",
       "      <td>RCB</td>\n",
       "      <td>SRH</td>\n",
       "      <td>1</td>\n",
       "      <td>5</td>\n",
       "      <td>Mandeep Singh</td>\n",
       "      <td>373</td>\n",
       "      <td>Chris Gayle</td>\n",
       "      <td>79</td>\n",
       "      <td>...</td>\n",
       "      <td>119</td>\n",
       "      <td>4</td>\n",
       "      <td>0</td>\n",
       "      <td>NaN</td>\n",
       "      <td>NaN</td>\n",
       "      <td>NaN</td>\n",
       "      <td>0</td>\n",
       "      <td>2017</td>\n",
       "      <td>4</td>\n",
       "      <td>1</td>\n",
       "    </tr>\n",
       "  </tbody>\n",
       "</table>\n",
       "<p>5 rows × 21 columns</p>\n",
       "</div>"
      ],
      "text/plain": [
       "   match_id  inning batting_team bowling_team  over  ball        batsman  \\\n",
       "88   2017_1       2          RCB          SRH     1     1    Chris Gayle   \n",
       "89   2017_1       2          RCB          SRH     1     2  Mandeep Singh   \n",
       "90   2017_1       2          RCB          SRH     1     3  Mandeep Singh   \n",
       "91   2017_1       2          RCB          SRH     1     4  Mandeep Singh   \n",
       "92   2017_1       2          RCB          SRH     1     5  Mandeep Singh   \n",
       "\n",
       "    batsman_id    non_striker  non_striker_id        ...         bowler_id  \\\n",
       "88          79  Mandeep Singh             373        ...               119   \n",
       "89         373    Chris Gayle              79        ...               119   \n",
       "90         373    Chris Gayle              79        ...               119   \n",
       "91         373    Chris Gayle              79        ...               119   \n",
       "92         373    Chris Gayle              79        ...               119   \n",
       "\n",
       "    batsman_runs  extra_runs  player_dismissed player_dismissed_id  \\\n",
       "88             1           0               NaN                 NaN   \n",
       "89             0           0               NaN                 NaN   \n",
       "90             0           0               NaN                 NaN   \n",
       "91             2           0               NaN                 NaN   \n",
       "92             4           0               NaN                 NaN   \n",
       "\n",
       "    dismissal_kind is_super_over  season  venue_id  seasonal_match_id  \n",
       "88             NaN             0    2017         4                  1  \n",
       "89             NaN             0    2017         4                  1  \n",
       "90             NaN             0    2017         4                  1  \n",
       "91             NaN             0    2017         4                  1  \n",
       "92             NaN             0    2017         4                  1  \n",
       "\n",
       "[5 rows x 21 columns]"
      ]
     },
     "execution_count": 48,
     "metadata": {},
     "output_type": "execute_result"
    }
   ],
   "source": [
    "ball_by_ball_only_2018_2ndinn.head()"
   ]
  },
  {
   "cell_type": "code",
   "execution_count": 49,
   "metadata": {
    "collapsed": true
   },
   "outputs": [],
   "source": [
    "#### matchwise aggregation.\n",
    "\n",
    "score_card_2nd_inn=ball_by_ball_only_2018_2ndinn.groupby(['match_id','seasonal_match_id','season','venue_id','batting_team','bowling_team','batsman','batsman_id'], as_index=False)['batsman_runs'].agg({'ball_palyed':'count','batsman_runs':'sum'})"
   ]
  },
  {
   "cell_type": "code",
   "execution_count": 50,
   "metadata": {
    "scrolled": true
   },
   "outputs": [
    {
     "data": {
      "text/html": [
       "<div>\n",
       "<style>\n",
       "    .dataframe thead tr:only-child th {\n",
       "        text-align: right;\n",
       "    }\n",
       "\n",
       "    .dataframe thead th {\n",
       "        text-align: left;\n",
       "    }\n",
       "\n",
       "    .dataframe tbody tr th {\n",
       "        vertical-align: top;\n",
       "    }\n",
       "</style>\n",
       "<table border=\"1\" class=\"dataframe\">\n",
       "  <thead>\n",
       "    <tr style=\"text-align: right;\">\n",
       "      <th></th>\n",
       "      <th>match_id</th>\n",
       "      <th>seasonal_match_id</th>\n",
       "      <th>season</th>\n",
       "      <th>venue_id</th>\n",
       "      <th>batting_team</th>\n",
       "      <th>bowling_team</th>\n",
       "      <th>batsman</th>\n",
       "      <th>batsman_id</th>\n",
       "      <th>ball_palyed</th>\n",
       "      <th>batsman_runs</th>\n",
       "    </tr>\n",
       "  </thead>\n",
       "  <tbody>\n",
       "    <tr>\n",
       "      <th>0</th>\n",
       "      <td>2008_1</td>\n",
       "      <td>1</td>\n",
       "      <td>2008</td>\n",
       "      <td>7</td>\n",
       "      <td>RCB</td>\n",
       "      <td>KKR</td>\n",
       "      <td>Virat Kohli</td>\n",
       "      <td>149</td>\n",
       "      <td>5</td>\n",
       "      <td>1</td>\n",
       "    </tr>\n",
       "    <tr>\n",
       "      <th>1</th>\n",
       "      <td>2008_10</td>\n",
       "      <td>10</td>\n",
       "      <td>2008</td>\n",
       "      <td>9</td>\n",
       "      <td>MI</td>\n",
       "      <td>KXI</td>\n",
       "      <td>Dhawal Kulkarni</td>\n",
       "      <td>118</td>\n",
       "      <td>17</td>\n",
       "      <td>2</td>\n",
       "    </tr>\n",
       "    <tr>\n",
       "      <th>2</th>\n",
       "      <td>2008_10</td>\n",
       "      <td>10</td>\n",
       "      <td>2008</td>\n",
       "      <td>9</td>\n",
       "      <td>MI</td>\n",
       "      <td>KXI</td>\n",
       "      <td>Dwayne Bravo</td>\n",
       "      <td>114</td>\n",
       "      <td>22</td>\n",
       "      <td>23</td>\n",
       "    </tr>\n",
       "    <tr>\n",
       "      <th>3</th>\n",
       "      <td>2008_10</td>\n",
       "      <td>10</td>\n",
       "      <td>2008</td>\n",
       "      <td>9</td>\n",
       "      <td>MI</td>\n",
       "      <td>KXI</td>\n",
       "      <td>Harbhajan Singh</td>\n",
       "      <td>131</td>\n",
       "      <td>1</td>\n",
       "      <td>0</td>\n",
       "    </tr>\n",
       "    <tr>\n",
       "      <th>4</th>\n",
       "      <td>2008_10</td>\n",
       "      <td>10</td>\n",
       "      <td>2008</td>\n",
       "      <td>9</td>\n",
       "      <td>MI</td>\n",
       "      <td>KXI</td>\n",
       "      <td>Robin Uthappa</td>\n",
       "      <td>141</td>\n",
       "      <td>19</td>\n",
       "      <td>21</td>\n",
       "    </tr>\n",
       "  </tbody>\n",
       "</table>\n",
       "</div>"
      ],
      "text/plain": [
       "  match_id  seasonal_match_id  season  venue_id batting_team bowling_team  \\\n",
       "0   2008_1                  1    2008         7          RCB          KKR   \n",
       "1  2008_10                 10    2008         9           MI          KXI   \n",
       "2  2008_10                 10    2008         9           MI          KXI   \n",
       "3  2008_10                 10    2008         9           MI          KXI   \n",
       "4  2008_10                 10    2008         9           MI          KXI   \n",
       "\n",
       "           batsman  batsman_id  ball_palyed  batsman_runs  \n",
       "0      Virat Kohli         149            5             1  \n",
       "1  Dhawal Kulkarni         118           17             2  \n",
       "2     Dwayne Bravo         114           22            23  \n",
       "3  Harbhajan Singh         131            1             0  \n",
       "4    Robin Uthappa         141           19            21  "
      ]
     },
     "execution_count": 50,
     "metadata": {},
     "output_type": "execute_result"
    }
   ],
   "source": [
    "score_card_2nd_inn.head()"
   ]
  },
  {
   "cell_type": "code",
   "execution_count": 51,
   "metadata": {
    "collapsed": true
   },
   "outputs": [],
   "source": [
    "score_card_2nd_inn['unique_id']=(score_card_2nd_inn['match_id']).apply(str)+\"_\"+(score_card_2nd_inn['batsman_id']).apply(str)"
   ]
  },
  {
   "cell_type": "code",
   "execution_count": 52,
   "metadata": {
    "collapsed": true
   },
   "outputs": [],
   "source": [
    "score_card_2nd_inn=score_card_2nd_inn.sort_values(['batsman_id','season','seasonal_match_id'])"
   ]
  },
  {
   "cell_type": "code",
   "execution_count": 53,
   "metadata": {
    "collapsed": true
   },
   "outputs": [],
   "source": [
    "#### Adding up the total Runs scored for each match Cummulatively\n",
    "score_card_2nd_inn['cumm_runs']=score_card_2nd_inn.groupby(['batsman_id'])['batsman_runs'].cumsum()\n",
    "#### Adding the total balls faced for the each match\n",
    "score_card_2nd_inn['B/F']=score_card_2nd_inn.groupby(['batsman_id'])['ball_palyed'].cumsum()"
   ]
  },
  {
   "cell_type": "markdown",
   "metadata": {},
   "source": [
    "## Calculating strike rate, average and matches played"
   ]
  },
  {
   "cell_type": "code",
   "execution_count": 55,
   "metadata": {
    "collapsed": true
   },
   "outputs": [],
   "source": [
    "#### Calculating the strike rate formula: total_no_of_runs/total_balls_faced\n",
    "\n",
    "\n",
    "score_card_2nd_inn['strike_rate']=np.round((score_card_2nd_inn['cumm_runs']/score_card_2nd_inn['B/F'])*100,2)\n",
    "\n"
   ]
  },
  {
   "cell_type": "code",
   "execution_count": 56,
   "metadata": {
    "collapsed": true
   },
   "outputs": [],
   "source": [
    "#### To calculate the Average the of the batsman for each match.\n",
    "\n",
    "#### This is number of matches played.\n",
    "score_card_2nd_inn['matches_played']=(score_card_2nd_inn.groupby(['batsman_id'])['B/F'].rank(ascending=True)).apply(int)\n",
    "\n",
    "\n",
    "#### Average of batsman formula: Runs_scored/Matches_palyed.\n",
    "\n",
    "score_card_2nd_inn['Averge_of_batsman']=np.round((score_card_2nd_inn['cumm_runs']/score_card_2nd_inn['matches_played']),2)\n",
    "\n",
    "\n"
   ]
  },
  {
   "cell_type": "markdown",
   "metadata": {},
   "source": [
    "## Test set for 2018 matches (2nd innings)"
   ]
  },
  {
   "cell_type": "code",
   "execution_count": 57,
   "metadata": {
    "collapsed": true
   },
   "outputs": [],
   "source": [
    "test_data_prep_2nd_inn=score_card_2nd_inn[['batsman_id','batsman','matches_played','strike_rate','Averge_of_batsman']].sort_values(['batsman_id','matches_played'],ascending=[True,False]).drop_duplicates(subset=['batsman_id'])"
   ]
  },
  {
   "cell_type": "code",
   "execution_count": 59,
   "metadata": {
    "scrolled": true
   },
   "outputs": [
    {
     "data": {
      "text/html": [
       "<div>\n",
       "<style>\n",
       "    .dataframe thead tr:only-child th {\n",
       "        text-align: right;\n",
       "    }\n",
       "\n",
       "    .dataframe thead th {\n",
       "        text-align: left;\n",
       "    }\n",
       "\n",
       "    .dataframe tbody tr th {\n",
       "        vertical-align: top;\n",
       "    }\n",
       "</style>\n",
       "<table border=\"1\" class=\"dataframe\">\n",
       "  <thead>\n",
       "    <tr style=\"text-align: right;\">\n",
       "      <th></th>\n",
       "      <th>batsman_id</th>\n",
       "      <th>batsman</th>\n",
       "      <th>matches_played</th>\n",
       "      <th>strike_rate</th>\n",
       "      <th>Averge_of_batsman</th>\n",
       "    </tr>\n",
       "  </thead>\n",
       "  <tbody>\n",
       "    <tr>\n",
       "      <th>2498</th>\n",
       "      <td>1</td>\n",
       "      <td>Mahendra Singh Dhoni</td>\n",
       "      <td>54</td>\n",
       "      <td>128.43</td>\n",
       "      <td>24.59</td>\n",
       "    </tr>\n",
       "    <tr>\n",
       "      <th>2081</th>\n",
       "      <td>3</td>\n",
       "      <td>Ravichandran Ashwin</td>\n",
       "      <td>19</td>\n",
       "      <td>99.32</td>\n",
       "      <td>7.68</td>\n",
       "    </tr>\n",
       "    <tr>\n",
       "      <th>2494</th>\n",
       "      <td>12</td>\n",
       "      <td>Parthiv Patel</td>\n",
       "      <td>58</td>\n",
       "      <td>111.60</td>\n",
       "      <td>21.72</td>\n",
       "    </tr>\n",
       "    <tr>\n",
       "      <th>2408</th>\n",
       "      <td>24</td>\n",
       "      <td>Suresh Raina</td>\n",
       "      <td>66</td>\n",
       "      <td>137.87</td>\n",
       "      <td>28.68</td>\n",
       "    </tr>\n",
       "    <tr>\n",
       "      <th>2495</th>\n",
       "      <td>30</td>\n",
       "      <td>Rohit Sharma</td>\n",
       "      <td>75</td>\n",
       "      <td>120.35</td>\n",
       "      <td>24.84</td>\n",
       "    </tr>\n",
       "  </tbody>\n",
       "</table>\n",
       "</div>"
      ],
      "text/plain": [
       "      batsman_id               batsman  matches_played  strike_rate  \\\n",
       "2498           1  Mahendra Singh Dhoni              54       128.43   \n",
       "2081           3   Ravichandran Ashwin              19        99.32   \n",
       "2494          12         Parthiv Patel              58       111.60   \n",
       "2408          24          Suresh Raina              66       137.87   \n",
       "2495          30          Rohit Sharma              75       120.35   \n",
       "\n",
       "      Averge_of_batsman  \n",
       "2498              24.59  \n",
       "2081               7.68  \n",
       "2494              21.72  \n",
       "2408              28.68  \n",
       "2495              24.84  "
      ]
     },
     "execution_count": 59,
     "metadata": {},
     "output_type": "execute_result"
    }
   ],
   "source": [
    "test_data_prep_2nd_inn.head()"
   ]
  },
  {
   "cell_type": "markdown",
   "metadata": {},
   "source": [
    "## Shifting the average, strike rate and matches played to the next matches"
   ]
  },
  {
   "cell_type": "markdown",
   "metadata": {},
   "source": [
    "Let me explain here, As before i said when ever a player is playing in one match before the start of match what we know is only his previous overall strike rate, average and matches played. So i shifted the strike rate to very next match of the player."
   ]
  },
  {
   "cell_type": "markdown",
   "metadata": {},
   "source": [
    "### 2nd Innings"
   ]
  },
  {
   "cell_type": "code",
   "execution_count": 60,
   "metadata": {},
   "outputs": [
    {
     "data": {
      "text/html": [
       "<div>\n",
       "<style>\n",
       "    .dataframe thead tr:only-child th {\n",
       "        text-align: right;\n",
       "    }\n",
       "\n",
       "    .dataframe thead th {\n",
       "        text-align: left;\n",
       "    }\n",
       "\n",
       "    .dataframe tbody tr th {\n",
       "        vertical-align: top;\n",
       "    }\n",
       "</style>\n",
       "<table border=\"1\" class=\"dataframe\">\n",
       "  <thead>\n",
       "    <tr style=\"text-align: right;\">\n",
       "      <th></th>\n",
       "      <th>match_id</th>\n",
       "      <th>seasonal_match_id</th>\n",
       "      <th>season</th>\n",
       "      <th>venue_id</th>\n",
       "      <th>batting_team</th>\n",
       "      <th>bowling_team</th>\n",
       "      <th>batsman</th>\n",
       "      <th>batsman_id</th>\n",
       "      <th>ball_palyed</th>\n",
       "      <th>batsman_runs</th>\n",
       "      <th>unique_id</th>\n",
       "      <th>cumm_runs</th>\n",
       "      <th>B/F</th>\n",
       "      <th>strike_rate</th>\n",
       "      <th>matches_played</th>\n",
       "      <th>Averge_of_batsman</th>\n",
       "    </tr>\n",
       "  </thead>\n",
       "  <tbody>\n",
       "    <tr>\n",
       "      <th>8</th>\n",
       "      <td>2008_12</td>\n",
       "      <td>12</td>\n",
       "      <td>2008</td>\n",
       "      <td>5</td>\n",
       "      <td>CSK</td>\n",
       "      <td>KKR</td>\n",
       "      <td>Mahendra Singh Dhoni</td>\n",
       "      <td>1</td>\n",
       "      <td>27</td>\n",
       "      <td>43</td>\n",
       "      <td>2008_12_1</td>\n",
       "      <td>43</td>\n",
       "      <td>27</td>\n",
       "      <td>159.26</td>\n",
       "      <td>1</td>\n",
       "      <td>43.00</td>\n",
       "    </tr>\n",
       "    <tr>\n",
       "      <th>36</th>\n",
       "      <td>2008_28</td>\n",
       "      <td>28</td>\n",
       "      <td>2008</td>\n",
       "      <td>2</td>\n",
       "      <td>CSK</td>\n",
       "      <td>DD</td>\n",
       "      <td>Mahendra Singh Dhoni</td>\n",
       "      <td>1</td>\n",
       "      <td>33</td>\n",
       "      <td>33</td>\n",
       "      <td>2008_28_1</td>\n",
       "      <td>76</td>\n",
       "      <td>60</td>\n",
       "      <td>126.67</td>\n",
       "      <td>2</td>\n",
       "      <td>38.00</td>\n",
       "    </tr>\n",
       "    <tr>\n",
       "      <th>72</th>\n",
       "      <td>2008_48</td>\n",
       "      <td>48</td>\n",
       "      <td>2008</td>\n",
       "      <td>5</td>\n",
       "      <td>CSK</td>\n",
       "      <td>RCB</td>\n",
       "      <td>Mahendra Singh Dhoni</td>\n",
       "      <td>1</td>\n",
       "      <td>8</td>\n",
       "      <td>4</td>\n",
       "      <td>2008_48_1</td>\n",
       "      <td>80</td>\n",
       "      <td>68</td>\n",
       "      <td>117.65</td>\n",
       "      <td>3</td>\n",
       "      <td>26.67</td>\n",
       "    </tr>\n",
       "    <tr>\n",
       "      <th>83</th>\n",
       "      <td>2008_51</td>\n",
       "      <td>51</td>\n",
       "      <td>2008</td>\n",
       "      <td>5</td>\n",
       "      <td>CSK</td>\n",
       "      <td>RR</td>\n",
       "      <td>Mahendra Singh Dhoni</td>\n",
       "      <td>1</td>\n",
       "      <td>8</td>\n",
       "      <td>12</td>\n",
       "      <td>2008_51_1</td>\n",
       "      <td>92</td>\n",
       "      <td>76</td>\n",
       "      <td>121.05</td>\n",
       "      <td>4</td>\n",
       "      <td>23.00</td>\n",
       "    </tr>\n",
       "    <tr>\n",
       "      <th>91</th>\n",
       "      <td>2008_55</td>\n",
       "      <td>55</td>\n",
       "      <td>2008</td>\n",
       "      <td>4</td>\n",
       "      <td>CSK</td>\n",
       "      <td>SRH</td>\n",
       "      <td>Mahendra Singh Dhoni</td>\n",
       "      <td>1</td>\n",
       "      <td>27</td>\n",
       "      <td>37</td>\n",
       "      <td>2008_55_1</td>\n",
       "      <td>129</td>\n",
       "      <td>103</td>\n",
       "      <td>125.24</td>\n",
       "      <td>5</td>\n",
       "      <td>25.80</td>\n",
       "    </tr>\n",
       "  </tbody>\n",
       "</table>\n",
       "</div>"
      ],
      "text/plain": [
       "   match_id  seasonal_match_id  season  venue_id batting_team bowling_team  \\\n",
       "8   2008_12                 12    2008         5          CSK          KKR   \n",
       "36  2008_28                 28    2008         2          CSK           DD   \n",
       "72  2008_48                 48    2008         5          CSK          RCB   \n",
       "83  2008_51                 51    2008         5          CSK           RR   \n",
       "91  2008_55                 55    2008         4          CSK          SRH   \n",
       "\n",
       "                 batsman  batsman_id  ball_palyed  batsman_runs  unique_id  \\\n",
       "8   Mahendra Singh Dhoni           1           27            43  2008_12_1   \n",
       "36  Mahendra Singh Dhoni           1           33            33  2008_28_1   \n",
       "72  Mahendra Singh Dhoni           1            8             4  2008_48_1   \n",
       "83  Mahendra Singh Dhoni           1            8            12  2008_51_1   \n",
       "91  Mahendra Singh Dhoni           1           27            37  2008_55_1   \n",
       "\n",
       "    cumm_runs  B/F  strike_rate  matches_played  Averge_of_batsman  \n",
       "8          43   27       159.26               1              43.00  \n",
       "36         76   60       126.67               2              38.00  \n",
       "72         80   68       117.65               3              26.67  \n",
       "83         92   76       121.05               4              23.00  \n",
       "91        129  103       125.24               5              25.80  "
      ]
     },
     "execution_count": 60,
     "metadata": {},
     "output_type": "execute_result"
    }
   ],
   "source": [
    "score_card_2nd_inn.head()"
   ]
  },
  {
   "cell_type": "code",
   "execution_count": 61,
   "metadata": {
    "collapsed": true
   },
   "outputs": [],
   "source": [
    "### shift strike_rate\n",
    "score_card_2nd_inn['s_strike_rate']=score_card_2nd_inn.groupby(['batsman_id'])['strike_rate'].shift(1)"
   ]
  },
  {
   "cell_type": "code",
   "execution_count": 62,
   "metadata": {
    "collapsed": true
   },
   "outputs": [],
   "source": [
    "### shift Average_of_batsman\n",
    "score_card_2nd_inn['s_Averge_of_batsman']=score_card_2nd_inn.groupby(['batsman_id'])['Averge_of_batsman'].shift(1)"
   ]
  },
  {
   "cell_type": "code",
   "execution_count": 63,
   "metadata": {
    "collapsed": true
   },
   "outputs": [],
   "source": [
    "### Shift matches_played.\n",
    "\n",
    "score_card_2nd_inn['s_matches_played']=score_card_2nd_inn.groupby(['batsman_id'])['matches_played'].shift(1)\n"
   ]
  },
  {
   "cell_type": "markdown",
   "metadata": {},
   "source": [
    "### 1st Innings"
   ]
  },
  {
   "cell_type": "code",
   "execution_count": 64,
   "metadata": {},
   "outputs": [
    {
     "data": {
      "text/html": [
       "<div>\n",
       "<style>\n",
       "    .dataframe thead tr:only-child th {\n",
       "        text-align: right;\n",
       "    }\n",
       "\n",
       "    .dataframe thead th {\n",
       "        text-align: left;\n",
       "    }\n",
       "\n",
       "    .dataframe tbody tr th {\n",
       "        vertical-align: top;\n",
       "    }\n",
       "</style>\n",
       "<table border=\"1\" class=\"dataframe\">\n",
       "  <thead>\n",
       "    <tr style=\"text-align: right;\">\n",
       "      <th></th>\n",
       "      <th>match_id</th>\n",
       "      <th>seasonal_match_id</th>\n",
       "      <th>season</th>\n",
       "      <th>venue_id</th>\n",
       "      <th>batting_team</th>\n",
       "      <th>bowling_team</th>\n",
       "      <th>batsman</th>\n",
       "      <th>batsman_id</th>\n",
       "      <th>ball_palyed</th>\n",
       "      <th>batsman_runs</th>\n",
       "      <th>unique_id</th>\n",
       "      <th>cumm_runs</th>\n",
       "      <th>B/F</th>\n",
       "      <th>strike_rate</th>\n",
       "      <th>matches_played</th>\n",
       "      <th>Averge_of_batsman</th>\n",
       "    </tr>\n",
       "  </thead>\n",
       "  <tbody>\n",
       "    <tr>\n",
       "      <th>26</th>\n",
       "      <td>2008_2</td>\n",
       "      <td>2</td>\n",
       "      <td>2008</td>\n",
       "      <td>9</td>\n",
       "      <td>CSK</td>\n",
       "      <td>KXI</td>\n",
       "      <td>Mahendra Singh Dhoni</td>\n",
       "      <td>1</td>\n",
       "      <td>3</td>\n",
       "      <td>2</td>\n",
       "      <td>2008_2_1</td>\n",
       "      <td>2</td>\n",
       "      <td>3</td>\n",
       "      <td>66.67</td>\n",
       "      <td>1</td>\n",
       "      <td>2.00</td>\n",
       "    </tr>\n",
       "    <tr>\n",
       "      <th>112</th>\n",
       "      <td>2008_8</td>\n",
       "      <td>8</td>\n",
       "      <td>2008</td>\n",
       "      <td>5</td>\n",
       "      <td>CSK</td>\n",
       "      <td>MI</td>\n",
       "      <td>Mahendra Singh Dhoni</td>\n",
       "      <td>1</td>\n",
       "      <td>17</td>\n",
       "      <td>30</td>\n",
       "      <td>2008_8_1</td>\n",
       "      <td>32</td>\n",
       "      <td>20</td>\n",
       "      <td>160.00</td>\n",
       "      <td>2</td>\n",
       "      <td>16.00</td>\n",
       "    </tr>\n",
       "    <tr>\n",
       "      <th>14</th>\n",
       "      <td>2008_15</td>\n",
       "      <td>15</td>\n",
       "      <td>2008</td>\n",
       "      <td>7</td>\n",
       "      <td>CSK</td>\n",
       "      <td>RCB</td>\n",
       "      <td>Mahendra Singh Dhoni</td>\n",
       "      <td>1</td>\n",
       "      <td>31</td>\n",
       "      <td>65</td>\n",
       "      <td>2008_15_1</td>\n",
       "      <td>97</td>\n",
       "      <td>51</td>\n",
       "      <td>190.20</td>\n",
       "      <td>3</td>\n",
       "      <td>32.33</td>\n",
       "    </tr>\n",
       "    <tr>\n",
       "      <th>29</th>\n",
       "      <td>2008_20</td>\n",
       "      <td>20</td>\n",
       "      <td>2008</td>\n",
       "      <td>5</td>\n",
       "      <td>CSK</td>\n",
       "      <td>DD</td>\n",
       "      <td>Mahendra Singh Dhoni</td>\n",
       "      <td>1</td>\n",
       "      <td>28</td>\n",
       "      <td>32</td>\n",
       "      <td>2008_20_1</td>\n",
       "      <td>129</td>\n",
       "      <td>79</td>\n",
       "      <td>163.29</td>\n",
       "      <td>4</td>\n",
       "      <td>32.25</td>\n",
       "    </tr>\n",
       "    <tr>\n",
       "      <th>38</th>\n",
       "      <td>2008_24</td>\n",
       "      <td>24</td>\n",
       "      <td>2008</td>\n",
       "      <td>6</td>\n",
       "      <td>CSK</td>\n",
       "      <td>RR</td>\n",
       "      <td>Mahendra Singh Dhoni</td>\n",
       "      <td>1</td>\n",
       "      <td>7</td>\n",
       "      <td>1</td>\n",
       "      <td>2008_24_1</td>\n",
       "      <td>130</td>\n",
       "      <td>86</td>\n",
       "      <td>151.16</td>\n",
       "      <td>5</td>\n",
       "      <td>26.00</td>\n",
       "    </tr>\n",
       "  </tbody>\n",
       "</table>\n",
       "</div>"
      ],
      "text/plain": [
       "    match_id  seasonal_match_id  season  venue_id batting_team bowling_team  \\\n",
       "26    2008_2                  2    2008         9          CSK          KXI   \n",
       "112   2008_8                  8    2008         5          CSK           MI   \n",
       "14   2008_15                 15    2008         7          CSK          RCB   \n",
       "29   2008_20                 20    2008         5          CSK           DD   \n",
       "38   2008_24                 24    2008         6          CSK           RR   \n",
       "\n",
       "                  batsman  batsman_id  ball_palyed  batsman_runs  unique_id  \\\n",
       "26   Mahendra Singh Dhoni           1            3             2   2008_2_1   \n",
       "112  Mahendra Singh Dhoni           1           17            30   2008_8_1   \n",
       "14   Mahendra Singh Dhoni           1           31            65  2008_15_1   \n",
       "29   Mahendra Singh Dhoni           1           28            32  2008_20_1   \n",
       "38   Mahendra Singh Dhoni           1            7             1  2008_24_1   \n",
       "\n",
       "     cumm_runs  B/F  strike_rate  matches_played  Averge_of_batsman  \n",
       "26           2    3        66.67               1               2.00  \n",
       "112         32   20       160.00               2              16.00  \n",
       "14          97   51       190.20               3              32.33  \n",
       "29         129   79       163.29               4              32.25  \n",
       "38         130   86       151.16               5              26.00  "
      ]
     },
     "execution_count": 64,
     "metadata": {},
     "output_type": "execute_result"
    }
   ],
   "source": [
    "score_card_1st_inn.head()"
   ]
  },
  {
   "cell_type": "code",
   "execution_count": 65,
   "metadata": {
    "collapsed": true
   },
   "outputs": [],
   "source": [
    "### shift strike_rate\n",
    "score_card_1st_inn['s_strike_rate']=score_card_1st_inn.groupby(['batsman_id'])['strike_rate'].shift(1)"
   ]
  },
  {
   "cell_type": "code",
   "execution_count": 66,
   "metadata": {
    "collapsed": true
   },
   "outputs": [],
   "source": [
    "### shift Average_of_batsman\n",
    "score_card_1st_inn['s_Averge_of_batsman']=score_card_1st_inn.groupby(['batsman_id'])['Averge_of_batsman'].shift(1)"
   ]
  },
  {
   "cell_type": "code",
   "execution_count": 67,
   "metadata": {
    "collapsed": true
   },
   "outputs": [],
   "source": [
    "### Shift matches_played.\n",
    "\n",
    "score_card_1st_inn['s_matches_played']=score_card_1st_inn.groupby(['batsman_id'])['matches_played'].shift(1)\n"
   ]
  },
  {
   "cell_type": "markdown",
   "metadata": {},
   "source": [
    " "
   ]
  },
  {
   "cell_type": "markdown",
   "metadata": {},
   "source": [
    "### Removing very first match of each player since we dont have any use of very first match because we shifting the strike rate to next match"
   ]
  },
  {
   "cell_type": "code",
   "execution_count": 68,
   "metadata": {
    "collapsed": true
   },
   "outputs": [],
   "source": [
    "#### i dont want the very first match of the player since we dont know the average, strike rate, ball played for the previous \n",
    "#### Match since we use it for the prediction purpose in next match. \n",
    " \n",
    "\n",
    "score_card_1st_inn=score_card_1st_inn[~score_card_1st_inn['s_matches_played'].isnull()]"
   ]
  },
  {
   "cell_type": "code",
   "execution_count": 69,
   "metadata": {
    "collapsed": true
   },
   "outputs": [],
   "source": [
    "score_card_2nd_inn=score_card_2nd_inn[~score_card_2nd_inn['s_matches_played'].isnull()]"
   ]
  },
  {
   "cell_type": "markdown",
   "metadata": {},
   "source": [
    " "
   ]
  },
  {
   "cell_type": "markdown",
   "metadata": {},
   "source": [
    " "
   ]
  },
  {
   "cell_type": "code",
   "execution_count": 71,
   "metadata": {
    "collapsed": true
   },
   "outputs": [],
   "source": [
    "final_score_card_1st_inn=score_card_1st_inn[['unique_id','venue_id','batting_team','bowling_team','s_strike_rate','s_Averge_of_batsman','s_matches_played','batsman_runs']]"
   ]
  },
  {
   "cell_type": "code",
   "execution_count": 72,
   "metadata": {
    "scrolled": true
   },
   "outputs": [
    {
     "data": {
      "text/html": [
       "<div>\n",
       "<style>\n",
       "    .dataframe thead tr:only-child th {\n",
       "        text-align: right;\n",
       "    }\n",
       "\n",
       "    .dataframe thead th {\n",
       "        text-align: left;\n",
       "    }\n",
       "\n",
       "    .dataframe tbody tr th {\n",
       "        vertical-align: top;\n",
       "    }\n",
       "</style>\n",
       "<table border=\"1\" class=\"dataframe\">\n",
       "  <thead>\n",
       "    <tr style=\"text-align: right;\">\n",
       "      <th></th>\n",
       "      <th>unique_id</th>\n",
       "      <th>venue_id</th>\n",
       "      <th>batting_team</th>\n",
       "      <th>bowling_team</th>\n",
       "      <th>s_strike_rate</th>\n",
       "      <th>s_Averge_of_batsman</th>\n",
       "      <th>s_matches_played</th>\n",
       "      <th>batsman_runs</th>\n",
       "    </tr>\n",
       "  </thead>\n",
       "  <tbody>\n",
       "    <tr>\n",
       "      <th>112</th>\n",
       "      <td>2008_8_1</td>\n",
       "      <td>5</td>\n",
       "      <td>CSK</td>\n",
       "      <td>MI</td>\n",
       "      <td>66.67</td>\n",
       "      <td>2.00</td>\n",
       "      <td>1.0</td>\n",
       "      <td>30</td>\n",
       "    </tr>\n",
       "    <tr>\n",
       "      <th>14</th>\n",
       "      <td>2008_15_1</td>\n",
       "      <td>7</td>\n",
       "      <td>CSK</td>\n",
       "      <td>RCB</td>\n",
       "      <td>160.00</td>\n",
       "      <td>16.00</td>\n",
       "      <td>2.0</td>\n",
       "      <td>65</td>\n",
       "    </tr>\n",
       "    <tr>\n",
       "      <th>29</th>\n",
       "      <td>2008_20_1</td>\n",
       "      <td>5</td>\n",
       "      <td>CSK</td>\n",
       "      <td>DD</td>\n",
       "      <td>190.20</td>\n",
       "      <td>32.33</td>\n",
       "      <td>3.0</td>\n",
       "      <td>32</td>\n",
       "    </tr>\n",
       "    <tr>\n",
       "      <th>38</th>\n",
       "      <td>2008_24_1</td>\n",
       "      <td>6</td>\n",
       "      <td>CSK</td>\n",
       "      <td>RR</td>\n",
       "      <td>163.29</td>\n",
       "      <td>32.25</td>\n",
       "      <td>4.0</td>\n",
       "      <td>1</td>\n",
       "    </tr>\n",
       "    <tr>\n",
       "      <th>42</th>\n",
       "      <td>2008_26_1</td>\n",
       "      <td>5</td>\n",
       "      <td>CSK</td>\n",
       "      <td>SRH</td>\n",
       "      <td>151.16</td>\n",
       "      <td>26.00</td>\n",
       "      <td>5.0</td>\n",
       "      <td>23</td>\n",
       "    </tr>\n",
       "  </tbody>\n",
       "</table>\n",
       "</div>"
      ],
      "text/plain": [
       "     unique_id  venue_id batting_team bowling_team  s_strike_rate  \\\n",
       "112   2008_8_1         5          CSK           MI          66.67   \n",
       "14   2008_15_1         7          CSK          RCB         160.00   \n",
       "29   2008_20_1         5          CSK           DD         190.20   \n",
       "38   2008_24_1         6          CSK           RR         163.29   \n",
       "42   2008_26_1         5          CSK          SRH         151.16   \n",
       "\n",
       "     s_Averge_of_batsman  s_matches_played  batsman_runs  \n",
       "112                 2.00               1.0            30  \n",
       "14                 16.00               2.0            65  \n",
       "29                 32.33               3.0            32  \n",
       "38                 32.25               4.0             1  \n",
       "42                 26.00               5.0            23  "
      ]
     },
     "execution_count": 72,
     "metadata": {},
     "output_type": "execute_result"
    }
   ],
   "source": [
    "final_score_card_1st_inn.head()"
   ]
  },
  {
   "cell_type": "code",
   "execution_count": 73,
   "metadata": {
    "collapsed": true
   },
   "outputs": [],
   "source": [
    "final_score_card_2nd_inn=score_card_2nd_inn[['unique_id','venue_id','batting_team','bowling_team','s_strike_rate','s_Averge_of_batsman','s_matches_played','batsman_runs']]"
   ]
  },
  {
   "cell_type": "code",
   "execution_count": 75,
   "metadata": {
    "scrolled": true
   },
   "outputs": [
    {
     "data": {
      "text/html": [
       "<div>\n",
       "<style>\n",
       "    .dataframe thead tr:only-child th {\n",
       "        text-align: right;\n",
       "    }\n",
       "\n",
       "    .dataframe thead th {\n",
       "        text-align: left;\n",
       "    }\n",
       "\n",
       "    .dataframe tbody tr th {\n",
       "        vertical-align: top;\n",
       "    }\n",
       "</style>\n",
       "<table border=\"1\" class=\"dataframe\">\n",
       "  <thead>\n",
       "    <tr style=\"text-align: right;\">\n",
       "      <th></th>\n",
       "      <th>unique_id</th>\n",
       "      <th>venue_id</th>\n",
       "      <th>batting_team</th>\n",
       "      <th>bowling_team</th>\n",
       "      <th>s_strike_rate</th>\n",
       "      <th>s_Averge_of_batsman</th>\n",
       "      <th>s_matches_played</th>\n",
       "      <th>batsman_runs</th>\n",
       "    </tr>\n",
       "  </thead>\n",
       "  <tbody>\n",
       "    <tr>\n",
       "      <th>36</th>\n",
       "      <td>2008_28_1</td>\n",
       "      <td>2</td>\n",
       "      <td>CSK</td>\n",
       "      <td>DD</td>\n",
       "      <td>159.26</td>\n",
       "      <td>43.00</td>\n",
       "      <td>1.0</td>\n",
       "      <td>33</td>\n",
       "    </tr>\n",
       "    <tr>\n",
       "      <th>72</th>\n",
       "      <td>2008_48_1</td>\n",
       "      <td>5</td>\n",
       "      <td>CSK</td>\n",
       "      <td>RCB</td>\n",
       "      <td>126.67</td>\n",
       "      <td>38.00</td>\n",
       "      <td>2.0</td>\n",
       "      <td>4</td>\n",
       "    </tr>\n",
       "    <tr>\n",
       "      <th>83</th>\n",
       "      <td>2008_51_1</td>\n",
       "      <td>5</td>\n",
       "      <td>CSK</td>\n",
       "      <td>RR</td>\n",
       "      <td>117.65</td>\n",
       "      <td>26.67</td>\n",
       "      <td>3.0</td>\n",
       "      <td>12</td>\n",
       "    </tr>\n",
       "    <tr>\n",
       "      <th>91</th>\n",
       "      <td>2008_55_1</td>\n",
       "      <td>4</td>\n",
       "      <td>CSK</td>\n",
       "      <td>SRH</td>\n",
       "      <td>121.05</td>\n",
       "      <td>23.00</td>\n",
       "      <td>4.0</td>\n",
       "      <td>37</td>\n",
       "    </tr>\n",
       "    <tr>\n",
       "      <th>115</th>\n",
       "      <td>2009_1_1</td>\n",
       "      <td>11</td>\n",
       "      <td>CSK</td>\n",
       "      <td>MI</td>\n",
       "      <td>125.24</td>\n",
       "      <td>25.80</td>\n",
       "      <td>5.0</td>\n",
       "      <td>36</td>\n",
       "    </tr>\n",
       "  </tbody>\n",
       "</table>\n",
       "</div>"
      ],
      "text/plain": [
       "     unique_id  venue_id batting_team bowling_team  s_strike_rate  \\\n",
       "36   2008_28_1         2          CSK           DD         159.26   \n",
       "72   2008_48_1         5          CSK          RCB         126.67   \n",
       "83   2008_51_1         5          CSK           RR         117.65   \n",
       "91   2008_55_1         4          CSK          SRH         121.05   \n",
       "115   2009_1_1        11          CSK           MI         125.24   \n",
       "\n",
       "     s_Averge_of_batsman  s_matches_played  batsman_runs  \n",
       "36                 43.00               1.0            33  \n",
       "72                 38.00               2.0             4  \n",
       "83                 26.67               3.0            12  \n",
       "91                 23.00               4.0            37  \n",
       "115                25.80               5.0            36  "
      ]
     },
     "execution_count": 75,
     "metadata": {},
     "output_type": "execute_result"
    }
   ],
   "source": [
    "final_score_card_2nd_inn.head()"
   ]
  },
  {
   "cell_type": "markdown",
   "metadata": {},
   "source": [
    "  "
   ]
  },
  {
   "cell_type": "markdown",
   "metadata": {},
   "source": [
    "### Label encoding the batting and bowling team"
   ]
  },
  {
   "cell_type": "code",
   "execution_count": 76,
   "metadata": {
    "collapsed": true
   },
   "outputs": [],
   "source": [
    "#### Label encoding the batting and bowling teams.\n",
    "\n",
    "\n",
    "teams_codes={'MI':0,\n",
    "        'DD':1,\n",
    "        'KKR':2,\n",
    "        'SRH':3,\n",
    "        'CSK':4,\n",
    "        'RR':5,\n",
    "        'RCB':6,\n",
    "        'KXI':7,\n",
    "        'DC':8,\n",
    "        'KTK':9,\n",
    "        'RPS':10,\n",
    "        'GL':11,\n",
    "        'PW':12,\n",
    "}"
   ]
  },
  {
   "cell_type": "code",
   "execution_count": 77,
   "metadata": {
    "collapsed": true
   },
   "outputs": [],
   "source": [
    "##### Mapping this team_codes"
   ]
  },
  {
   "cell_type": "code",
   "execution_count": 78,
   "metadata": {
    "collapsed": true
   },
   "outputs": [],
   "source": [
    "final_score_card_1st_inn=final_score_card_1st_inn.replace({'batting_team':teams_codes,'bowling_team':teams_codes})"
   ]
  },
  {
   "cell_type": "code",
   "execution_count": 79,
   "metadata": {
    "collapsed": true
   },
   "outputs": [],
   "source": [
    "final_score_card_2nd_inn=final_score_card_2nd_inn.replace({'batting_team':teams_codes,'bowling_team':teams_codes})"
   ]
  },
  {
   "cell_type": "code",
   "execution_count": 80,
   "metadata": {
    "scrolled": true
   },
   "outputs": [
    {
     "data": {
      "text/html": [
       "<div>\n",
       "<style>\n",
       "    .dataframe thead tr:only-child th {\n",
       "        text-align: right;\n",
       "    }\n",
       "\n",
       "    .dataframe thead th {\n",
       "        text-align: left;\n",
       "    }\n",
       "\n",
       "    .dataframe tbody tr th {\n",
       "        vertical-align: top;\n",
       "    }\n",
       "</style>\n",
       "<table border=\"1\" class=\"dataframe\">\n",
       "  <thead>\n",
       "    <tr style=\"text-align: right;\">\n",
       "      <th></th>\n",
       "      <th>unique_id</th>\n",
       "      <th>venue_id</th>\n",
       "      <th>batting_team</th>\n",
       "      <th>bowling_team</th>\n",
       "      <th>s_strike_rate</th>\n",
       "      <th>s_Averge_of_batsman</th>\n",
       "      <th>s_matches_played</th>\n",
       "      <th>batsman_runs</th>\n",
       "    </tr>\n",
       "  </thead>\n",
       "  <tbody>\n",
       "    <tr>\n",
       "      <th>112</th>\n",
       "      <td>2008_8_1</td>\n",
       "      <td>5</td>\n",
       "      <td>4</td>\n",
       "      <td>0</td>\n",
       "      <td>66.67</td>\n",
       "      <td>2.00</td>\n",
       "      <td>1.0</td>\n",
       "      <td>30</td>\n",
       "    </tr>\n",
       "    <tr>\n",
       "      <th>14</th>\n",
       "      <td>2008_15_1</td>\n",
       "      <td>7</td>\n",
       "      <td>4</td>\n",
       "      <td>6</td>\n",
       "      <td>160.00</td>\n",
       "      <td>16.00</td>\n",
       "      <td>2.0</td>\n",
       "      <td>65</td>\n",
       "    </tr>\n",
       "    <tr>\n",
       "      <th>29</th>\n",
       "      <td>2008_20_1</td>\n",
       "      <td>5</td>\n",
       "      <td>4</td>\n",
       "      <td>1</td>\n",
       "      <td>190.20</td>\n",
       "      <td>32.33</td>\n",
       "      <td>3.0</td>\n",
       "      <td>32</td>\n",
       "    </tr>\n",
       "    <tr>\n",
       "      <th>38</th>\n",
       "      <td>2008_24_1</td>\n",
       "      <td>6</td>\n",
       "      <td>4</td>\n",
       "      <td>5</td>\n",
       "      <td>163.29</td>\n",
       "      <td>32.25</td>\n",
       "      <td>4.0</td>\n",
       "      <td>1</td>\n",
       "    </tr>\n",
       "    <tr>\n",
       "      <th>42</th>\n",
       "      <td>2008_26_1</td>\n",
       "      <td>5</td>\n",
       "      <td>4</td>\n",
       "      <td>3</td>\n",
       "      <td>151.16</td>\n",
       "      <td>26.00</td>\n",
       "      <td>5.0</td>\n",
       "      <td>23</td>\n",
       "    </tr>\n",
       "  </tbody>\n",
       "</table>\n",
       "</div>"
      ],
      "text/plain": [
       "     unique_id  venue_id  batting_team  bowling_team  s_strike_rate  \\\n",
       "112   2008_8_1         5             4             0          66.67   \n",
       "14   2008_15_1         7             4             6         160.00   \n",
       "29   2008_20_1         5             4             1         190.20   \n",
       "38   2008_24_1         6             4             5         163.29   \n",
       "42   2008_26_1         5             4             3         151.16   \n",
       "\n",
       "     s_Averge_of_batsman  s_matches_played  batsman_runs  \n",
       "112                 2.00               1.0            30  \n",
       "14                 16.00               2.0            65  \n",
       "29                 32.33               3.0            32  \n",
       "38                 32.25               4.0             1  \n",
       "42                 26.00               5.0            23  "
      ]
     },
     "execution_count": 80,
     "metadata": {},
     "output_type": "execute_result"
    }
   ],
   "source": [
    "final_score_card_1st_inn.head()"
   ]
  },
  {
   "cell_type": "markdown",
   "metadata": {},
   "source": [
    " "
   ]
  },
  {
   "cell_type": "markdown",
   "metadata": {},
   "source": [
    "### One hot encoding the batting, bowling and venue_id"
   ]
  },
  {
   "cell_type": "code",
   "execution_count": 81,
   "metadata": {
    "collapsed": true
   },
   "outputs": [],
   "source": [
    "#### one hot encoding for the batting team bowling team and venueid.\n",
    "\n",
    "\n",
    "final_score_card_1st_inn['venue_id']='venue_id '+(final_score_card_1st_inn['venue_id']).apply(str)\n",
    "                                        \n"
   ]
  },
  {
   "cell_type": "code",
   "execution_count": 82,
   "metadata": {
    "collapsed": true,
    "scrolled": true
   },
   "outputs": [],
   "source": [
    "venue_id_dummy=pa.get_dummies(final_score_card_1st_inn['venue_id'])"
   ]
  },
  {
   "cell_type": "code",
   "execution_count": 83,
   "metadata": {
    "collapsed": true
   },
   "outputs": [],
   "source": [
    "final_score_card_1st_inn['bowling_team']='team '+(final_score_card_1st_inn['bowling_team']).apply(str)"
   ]
  },
  {
   "cell_type": "code",
   "execution_count": 84,
   "metadata": {
    "collapsed": true
   },
   "outputs": [],
   "source": [
    "teams_dummies=pa.get_dummies(final_score_card_1st_inn['bowling_team'])"
   ]
  },
  {
   "cell_type": "code",
   "execution_count": 85,
   "metadata": {
    "collapsed": true
   },
   "outputs": [],
   "source": [
    "final_score_card_1st_inn['unique_id']=(final_score_card_1st_inn['unique_id']).apply(str)+'_'+(final_score_card_1st_inn['batting_team']).apply(str)"
   ]
  },
  {
   "cell_type": "code",
   "execution_count": 86,
   "metadata": {
    "collapsed": true
   },
   "outputs": [],
   "source": [
    "### remove venue_id, batting and bowling team and add the dummy values.\n",
    "del final_score_card_1st_inn['bowling_team']\n",
    "del final_score_card_1st_inn['batting_team']\n",
    "del final_score_card_1st_inn['venue_id']\n"
   ]
  },
  {
   "cell_type": "code",
   "execution_count": 87,
   "metadata": {
    "collapsed": true,
    "scrolled": true
   },
   "outputs": [],
   "source": [
    "final_data_1st_inn=pa.concat([final_score_card_1st_inn['unique_id'],venue_id_dummy,teams_dummies,final_score_card_1st_inn.iloc[:,1:]], axis=1)"
   ]
  },
  {
   "cell_type": "code",
   "execution_count": 88,
   "metadata": {
    "collapsed": true
   },
   "outputs": [],
   "source": [
    "#### one hot encoding for the batting team bowling team and venueid.\n",
    "\n",
    "\n",
    "final_score_card_2nd_inn['venue_id']='venue_id '+(final_score_card_2nd_inn['venue_id']).apply(str)\n",
    "                                        \n"
   ]
  },
  {
   "cell_type": "code",
   "execution_count": 89,
   "metadata": {
    "collapsed": true
   },
   "outputs": [],
   "source": [
    "venue_id_dummy=pa.get_dummies(final_score_card_2nd_inn['venue_id'])"
   ]
  },
  {
   "cell_type": "code",
   "execution_count": 90,
   "metadata": {
    "collapsed": true
   },
   "outputs": [],
   "source": [
    "final_score_card_2nd_inn['bowling_team']='team '+(final_score_card_2nd_inn['bowling_team']).apply(str)"
   ]
  },
  {
   "cell_type": "code",
   "execution_count": 91,
   "metadata": {
    "collapsed": true
   },
   "outputs": [],
   "source": [
    "teams_dummies=pa.get_dummies(final_score_card_2nd_inn['bowling_team'])"
   ]
  },
  {
   "cell_type": "code",
   "execution_count": 92,
   "metadata": {
    "collapsed": true
   },
   "outputs": [],
   "source": [
    "final_score_card_2nd_inn['unique_id']=(final_score_card_2nd_inn['unique_id']).apply(str)+'_'+(final_score_card_2nd_inn['batting_team']).apply(str)"
   ]
  },
  {
   "cell_type": "code",
   "execution_count": 93,
   "metadata": {
    "collapsed": true
   },
   "outputs": [],
   "source": [
    "### remove venue_id, batting and bowling team and add the dummy values.\n",
    "del final_score_card_2nd_inn['bowling_team']\n",
    "del final_score_card_2nd_inn['batting_team']\n",
    "del final_score_card_2nd_inn['venue_id']\n"
   ]
  },
  {
   "cell_type": "code",
   "execution_count": 94,
   "metadata": {
    "collapsed": true
   },
   "outputs": [],
   "source": [
    "final_2nd_inn_data=pa.concat([final_score_card_2nd_inn['unique_id'],venue_id_dummy,teams_dummies,final_score_card_2nd_inn.iloc[:,1:]], axis=1)"
   ]
  },
  {
   "cell_type": "markdown",
   "metadata": {},
   "source": [
    "# PREDICTION"
   ]
  },
  {
   "cell_type": "markdown",
   "metadata": {},
   "source": [
    "## 1st innings"
   ]
  },
  {
   "cell_type": "code",
   "execution_count": 95,
   "metadata": {
    "collapsed": true,
    "scrolled": true
   },
   "outputs": [],
   "source": [
    "#### seperating the X and Y in the data.\n",
    "\n",
    "#### Since the 3 variables s_strike_rate, s_average_of_batsman, s_matches_played got skewed right i used sqrt transformation\n",
    "#### to this vars. Now it is alteast following the normal distribution\n",
    "\n",
    "\n",
    "\n",
    "final_data_1st_inn['s_strike_rate']=np.sqrt(final_data_1st_inn['s_strike_rate'])\n",
    "final_data_1st_inn['s_Averge_of_batsman']=np.sqrt(final_data_1st_inn['s_Averge_of_batsman'])\n",
    "final_data_1st_inn['s_matches_played']=np.sqrt(final_data_1st_inn['s_matches_played'])\n",
    "final_data_1st_inn['batsman_runs']=np.sqrt(final_data_1st_inn['batsman_runs'])"
   ]
  },
  {
   "cell_type": "code",
   "execution_count": 96,
   "metadata": {
    "collapsed": true
   },
   "outputs": [],
   "source": [
    "y=final_data_1st_inn.iloc[:,-1]"
   ]
  },
  {
   "cell_type": "code",
   "execution_count": 98,
   "metadata": {},
   "outputs": [],
   "source": [
    "#### dependencies.\n",
    "from sklearn.model_selection import train_test_split\n",
    "from sklearn.ensemble import GradientBoostingRegressor\n",
    "from sklearn.metrics import mean_squared_error"
   ]
  },
  {
   "cell_type": "code",
   "execution_count": 99,
   "metadata": {
    "collapsed": true
   },
   "outputs": [],
   "source": [
    "final_data_1st_inn['season']=([(row.split('_')[0]) for row in final_data_1st_inn['unique_id']])\n",
    "final_data_1st_inn['season']=(final_data_1st_inn['season']).apply(int)"
   ]
  },
  {
   "cell_type": "code",
   "execution_count": 100,
   "metadata": {
    "collapsed": true
   },
   "outputs": [],
   "source": [
    "#### for test sake let me take the 2017 data.\n",
    "\n",
    "test_data_1st_inn=final_data_1st_inn[final_data_1st_inn['season']==2017]"
   ]
  },
  {
   "cell_type": "code",
   "execution_count": 101,
   "metadata": {
    "collapsed": true
   },
   "outputs": [],
   "source": [
    "train_data_1st_inn=final_data_1st_inn[final_data_1st_inn['season']!=2017]"
   ]
  },
  {
   "cell_type": "code",
   "execution_count": 102,
   "metadata": {
    "collapsed": true
   },
   "outputs": [],
   "source": [
    "trainX=train_data_1st_inn.iloc[:,1:50]\n",
    "trainy=train_data_1st_inn.iloc[:,-2]"
   ]
  },
  {
   "cell_type": "code",
   "execution_count": 103,
   "metadata": {
    "collapsed": true
   },
   "outputs": [],
   "source": [
    "testX=test_data_1st_inn.iloc[:,1:50]\n",
    "testy=test_data_1st_inn.iloc[:,-2]"
   ]
  },
  {
   "cell_type": "markdown",
   "metadata": {},
   "source": [
    " "
   ]
  },
  {
   "cell_type": "markdown",
   "metadata": {},
   "source": [
    "## Lasso (Regularized regression model)"
   ]
  },
  {
   "cell_type": "code",
   "execution_count": 104,
   "metadata": {
    "collapsed": true
   },
   "outputs": [],
   "source": [
    "from sklearn.linear_model import Lasso"
   ]
  },
  {
   "cell_type": "code",
   "execution_count": 105,
   "metadata": {
    "collapsed": true
   },
   "outputs": [],
   "source": [
    "clf=Lasso(alpha=0.2)"
   ]
  },
  {
   "cell_type": "code",
   "execution_count": 106,
   "metadata": {},
   "outputs": [
    {
     "data": {
      "text/plain": [
       "Lasso(alpha=0.2, copy_X=True, fit_intercept=True, max_iter=1000,\n",
       "   normalize=False, positive=False, precompute=False, random_state=None,\n",
       "   selection='cyclic', tol=0.0001, warm_start=False)"
      ]
     },
     "execution_count": 106,
     "metadata": {},
     "output_type": "execute_result"
    }
   ],
   "source": [
    "clf.fit(trainX,trainy)"
   ]
  },
  {
   "cell_type": "code",
   "execution_count": 107,
   "metadata": {
    "scrolled": true
   },
   "outputs": [
    {
     "data": {
      "text/plain": [
       "array([ 25.,  25.,  25.,  25.,  25.,  25.,  25.,  25.,  16.,  16.,  16.,\n",
       "        16.,  16.,  25.,  25.,  25.,  25.,  25.,  25.,  25.,  25.,  25.,\n",
       "        25.,  25.,  25.,  25.,  25.,  25.,  25.,  25.,  25.,  25.,   9.,\n",
       "         9.,  16.,  16.,  16.,  16.,  16.,  16.,  16.,  16.,  25.,  25.,\n",
       "        25.,  25.,  25.,  25.,  25.,  25.,  25.,  25.,  25.,  25.,  25.,\n",
       "        25.,  25.,  16.,  16.,  16.,  16.,  16.,  16.,  25.,  25.,   9.,\n",
       "         9.,   9.,  25.,  25.,  25.,  25.,  25.,  25.,  25.,  25.,  25.,\n",
       "        25.,  25.,  25.,  16.,  16.,  16.,  16.,  16.,  16.,  16.,  16.,\n",
       "        16.,  16.,  16.,  16.,  16.,  16.,  16.,  16.,   9.,  16.,  16.,\n",
       "        16.,  16.,  16.,  25.,  25.,  25.,  25.,  25.,  25.,  25.,  25.,\n",
       "        16.,  16.,  16.,  25.,  25.,  25.,  25.,  25.,  25.,  25.,  25.,\n",
       "        25.,  25.,  25.,  16.,  16.,  16.,  16.,  16.,  25.,  25.,  16.,\n",
       "        16.,  16.,  16.,  16.,  16.,  16.,  25.,  25.,  25.,  25.,  25.,\n",
       "        25.,  25.,  25.,  25.,   9.,   9.,   9.,  16.,  16.,  16.,  16.,\n",
       "        16.,  16.,  16.,  16.,   9.,   9.,   9.,  16.,  16.,  16.,   9.,\n",
       "        16.,  16.,  16.,  16.,  16.,  16.,  16.,  16.,  16.,  16.,  16.,\n",
       "        16.,  16.,  16.,  16.,  16.,  16.,  16.,  16.,  16.,  16.,  16.,\n",
       "        16.,  16.,  16.,  16.,   9.,  16.,  16.,  16.,  16.,  16.,  16.,\n",
       "        16.,   9.,  16.,   9.,  16.,  16.,  16.,  16.,  16.,  16.,  16.,\n",
       "        16.,  16.,  16.,  16.,  16.,  16.,  16.,  16.,  16.,  16.,  16.,\n",
       "        16.,  16.,  16.,  16.,  16.,  16.,  16.,  16.,  16.,  16.,  16.,\n",
       "        16.,  16.,   9.,   9.,   9.,  16.,  16.,  16.,  16.,  16.,  16.,\n",
       "        16.,  16.,  16.,  16.,  16.,  16.,  16.,  16.,  16.,  16.,  16.,\n",
       "        16.,  16.,   9.,   9.,   9.,   9.,  16.,  16.,  16.,  16.,   9.,\n",
       "         9.,   9.,  16.,  16.,  16.,  16.,  16.,  16.,  16.,  16.,  16.,\n",
       "         9.,   9.,   9.,   9.,   9.,  16.,  16.,  16.,  16.,  16.,  16.,\n",
       "        16.,  16.,  16.,  16.,  16.,  16.,  16.,  16.,  16.,  16.,  25.,\n",
       "        25.,  16.,  16.,  16.,  16.,  16.,  16.,  16.,  16.,  16.,  16.,\n",
       "        16.,  25.,  16.,  16.,  16.,  16.,  16.,   9.,   9.,   9.,  16.,\n",
       "        16.,  16.,   9.,   9.,  16.,  16.,  16.,  16.,  16.,  16.,  16.,\n",
       "        16.,  16.,  16.,  16.,  16.,  16.,   9.,   9.,   9.,   9.,   4.,\n",
       "         4.,  16.,  25.,  16.,  16.,  16.,  16.,  16.,  16.,  16.,  16.,\n",
       "        16.,   9.,   9.,   9.,   9.,   9.,   9.,   9.,   9.,   9.,   9.])"
      ]
     },
     "execution_count": 107,
     "metadata": {},
     "output_type": "execute_result"
    }
   ],
   "source": [
    "np.round(clf.predict(testX))**2"
   ]
  },
  {
   "cell_type": "code",
   "execution_count": 136,
   "metadata": {
    "scrolled": true
   },
   "outputs": [
    {
     "data": {
      "text/plain": [
       "2473     5.0\n",
       "2281     5.0\n",
       "2311    28.0\n",
       "2392     7.0\n",
       "2399    23.0\n",
       "2426    21.0\n",
       "2501    31.0\n",
       "2576    40.0\n",
       "2337    19.0\n",
       "2366     8.0\n",
       "2509    25.0\n",
       "2524    23.0\n",
       "2605     4.0\n",
       "2407    68.0\n",
       "2613     5.0\n",
       "2306    28.0\n",
       "2437     1.0\n",
       "2465     8.0\n",
       "2492    77.0\n",
       "2535     6.0\n",
       "2557     2.0\n",
       "2338     3.0\n",
       "2367     5.0\n",
       "2510    10.0\n",
       "2525    67.0\n",
       "2562    27.0\n",
       "2606    24.0\n",
       "2622    89.0\n",
       "2271    19.0\n",
       "2408     5.0\n",
       "        ... \n",
       "2612    31.0\n",
       "2305    14.0\n",
       "2432     2.0\n",
       "2459     2.0\n",
       "2287     1.0\n",
       "2378    18.0\n",
       "2477     1.0\n",
       "2379     0.0\n",
       "2478    36.0\n",
       "2590     0.0\n",
       "2280    25.0\n",
       "2308     2.0\n",
       "2390    17.0\n",
       "2499    39.0\n",
       "2313    31.0\n",
       "2394    45.0\n",
       "2401    38.0\n",
       "2428    37.0\n",
       "2503     1.0\n",
       "2578     0.0\n",
       "2506     1.0\n",
       "2328     6.0\n",
       "2318     0.0\n",
       "2442     2.0\n",
       "2547     2.0\n",
       "2586    22.0\n",
       "2364     7.0\n",
       "2604    13.0\n",
       "2415     1.0\n",
       "2255     4.0\n",
       "Name: batsman_runs, Length: 363, dtype: float64"
      ]
     },
     "execution_count": 136,
     "metadata": {},
     "output_type": "execute_result"
    }
   ],
   "source": [
    "testy**2"
   ]
  },
  {
   "cell_type": "markdown",
   "metadata": {},
   "source": [
    " "
   ]
  },
  {
   "cell_type": "markdown",
   "metadata": {},
   "source": [
    "## Error Rate (RMSE)"
   ]
  },
  {
   "cell_type": "code",
   "execution_count": 137,
   "metadata": {},
   "outputs": [
    {
     "name": "stdout",
     "output_type": "stream",
     "text": [
      "2.24532440302\n"
     ]
    }
   ],
   "source": [
    "RMSE=np.sqrt(mean_squared_error(np.round(clf.predict(testX)),testy))\n",
    "print(RMSE)"
   ]
  },
  {
   "cell_type": "markdown",
   "metadata": {},
   "source": [
    " "
   ]
  },
  {
   "cell_type": "markdown",
   "metadata": {},
   "source": [
    "## KNN Algorithm"
   ]
  },
  {
   "cell_type": "code",
   "execution_count": 108,
   "metadata": {
    "collapsed": true
   },
   "outputs": [],
   "source": [
    "from sklearn.neighbors import KNeighborsRegressor\n",
    "\n",
    "clf=KNeighborsRegressor(n_neighbors=5)"
   ]
  },
  {
   "cell_type": "code",
   "execution_count": 109,
   "metadata": {},
   "outputs": [
    {
     "data": {
      "text/plain": [
       "KNeighborsRegressor(algorithm='auto', leaf_size=30, metric='minkowski',\n",
       "          metric_params=None, n_jobs=1, n_neighbors=5, p=2,\n",
       "          weights='uniform')"
      ]
     },
     "execution_count": 109,
     "metadata": {},
     "output_type": "execute_result"
    }
   ],
   "source": [
    "clf.fit(trainX,trainy)"
   ]
  },
  {
   "cell_type": "markdown",
   "metadata": {},
   "source": [
    " "
   ]
  },
  {
   "cell_type": "markdown",
   "metadata": {},
   "source": [
    "## Error Rate (RMSE)"
   ]
  },
  {
   "cell_type": "code",
   "execution_count": 112,
   "metadata": {},
   "outputs": [
    {
     "data": {
      "text/plain": [
       "2.4312060121106187"
      ]
     },
     "execution_count": 112,
     "metadata": {},
     "output_type": "execute_result"
    }
   ],
   "source": [
    "np.sqrt(mean_squared_error(np.round(clf.predict(testX)),np.ceil(testy)))"
   ]
  },
  {
   "cell_type": "markdown",
   "metadata": {},
   "source": [
    "#######################################################################################################################"
   ]
  },
  {
   "cell_type": "markdown",
   "metadata": {},
   "source": [
    "# Second innings prediction"
   ]
  },
  {
   "cell_type": "code",
   "execution_count": 113,
   "metadata": {
    "collapsed": true
   },
   "outputs": [],
   "source": [
    "final_2nd_inn_data['s_Averge_of_batsman']=np.sqrt(final_2nd_inn_data['s_Averge_of_batsman'])"
   ]
  },
  {
   "cell_type": "code",
   "execution_count": 114,
   "metadata": {
    "collapsed": true
   },
   "outputs": [],
   "source": [
    "final_2nd_inn_data['s_matches_played']=np.sqrt(final_2nd_inn_data['s_matches_played'])"
   ]
  },
  {
   "cell_type": "code",
   "execution_count": 115,
   "metadata": {
    "collapsed": true
   },
   "outputs": [],
   "source": [
    "final_2nd_inn_data['batsman_runs']=np.sqrt(final_2nd_inn_data['batsman_runs'])"
   ]
  },
  {
   "cell_type": "code",
   "execution_count": 119,
   "metadata": {
    "collapsed": true
   },
   "outputs": [],
   "source": [
    "final_2nd_inn_data['season']=([(row.split('_')[0]) for row in final_2nd_inn_data['unique_id']])\n",
    "final_2nd_inn_data['season']=(final_2nd_inn_data['season']).apply(int)"
   ]
  },
  {
   "cell_type": "code",
   "execution_count": 120,
   "metadata": {},
   "outputs": [],
   "source": [
    "test=final_2nd_inn_data[final_2nd_inn_data['season']==2017]\n",
    "train=final_2nd_inn_data[final_2nd_inn_data['season']!=2017]"
   ]
  },
  {
   "cell_type": "code",
   "execution_count": 121,
   "metadata": {},
   "outputs": [],
   "source": [
    "trainX=train.iloc[:,:49]"
   ]
  },
  {
   "cell_type": "code",
   "execution_count": 122,
   "metadata": {
    "collapsed": true
   },
   "outputs": [],
   "source": [
    "trainy=train.iloc[:,-2]"
   ]
  },
  {
   "cell_type": "code",
   "execution_count": 123,
   "metadata": {
    "collapsed": true
   },
   "outputs": [],
   "source": [
    "testX=test.iloc[:,:49]\n",
    "testy=test.iloc[:,-2]"
   ]
  },
  {
   "cell_type": "code",
   "execution_count": 124,
   "metadata": {
    "collapsed": true
   },
   "outputs": [],
   "source": [
    "clf=Lasso(alpha=0.2)"
   ]
  },
  {
   "cell_type": "code",
   "execution_count": 125,
   "metadata": {},
   "outputs": [
    {
     "data": {
      "text/plain": [
       "Lasso(alpha=0.2, copy_X=True, fit_intercept=True, max_iter=1000,\n",
       "   normalize=False, positive=False, precompute=False, random_state=None,\n",
       "   selection='cyclic', tol=0.0001, warm_start=False)"
      ]
     },
     "execution_count": 125,
     "metadata": {},
     "output_type": "execute_result"
    }
   ],
   "source": [
    "clf.fit(trainX,trainy)"
   ]
  },
  {
   "cell_type": "markdown",
   "metadata": {},
   "source": [
    "## Error Rate (RMSE)"
   ]
  },
  {
   "cell_type": "code",
   "execution_count": 127,
   "metadata": {},
   "outputs": [
    {
     "data": {
      "text/plain": [
       "2.566435695428769"
      ]
     },
     "execution_count": 127,
     "metadata": {},
     "output_type": "execute_result"
    }
   ],
   "source": [
    "np.sqrt(mean_squared_error(np.ceil(testy),np.round(clf.predict(testX))))"
   ]
  }
 ],
 "metadata": {
  "kernelspec": {
   "display_name": "Python 3",
   "language": "python",
   "name": "python3"
  },
  "language_info": {
   "codemirror_mode": {
    "name": "ipython",
    "version": 3
   },
   "file_extension": ".py",
   "mimetype": "text/x-python",
   "name": "python",
   "nbconvert_exporter": "python",
   "pygments_lexer": "ipython3",
   "version": "3.6.3"
  }
 },
 "nbformat": 4,
 "nbformat_minor": 2
}
